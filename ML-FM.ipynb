{
 "cells": [
  {
   "cell_type": "markdown",
   "metadata": {},
   "source": [
    "### Library Imports"
   ]
  },
  {
   "cell_type": "code",
   "execution_count": 1,
   "metadata": {},
   "outputs": [],
   "source": [
    "import numpy as np\n",
    "import matplotlib.pyplot as plt\n",
    "import pandas as pd\n",
    "from matplotlib import rc"
   ]
  },
  {
   "cell_type": "markdown",
   "metadata": {},
   "source": [
    "### Data Imports"
   ]
  },
  {
   "cell_type": "code",
   "execution_count": 2,
   "metadata": {},
   "outputs": [],
   "source": [
    "dataset_train = pd.read_csv('train.csv')\n",
    "train = dataset_train.set_index('Order No')\n",
    "X_train = train.iloc[:,:-1].values\n",
    "Y_train = train.iloc[:, -1].values\n",
    "\n",
    "#dataset_test = pd.read_csv('Test_dataset.csv')\n",
    "#test = dataset_test.set_index('Order No')\n",
    "#X_test = test.values"
   ]
  },
  {
   "cell_type": "code",
   "execution_count": 48,
   "metadata": {},
   "outputs": [
    {
     "data": {
      "text/html": [
       "<div>\n",
       "<style scoped>\n",
       "    .dataframe tbody tr th:only-of-type {\n",
       "        vertical-align: middle;\n",
       "    }\n",
       "\n",
       "    .dataframe tbody tr th {\n",
       "        vertical-align: top;\n",
       "    }\n",
       "\n",
       "    .dataframe thead th {\n",
       "        text-align: right;\n",
       "    }\n",
       "</style>\n",
       "<table border=\"1\" class=\"dataframe\">\n",
       "  <thead>\n",
       "    <tr style=\"text-align: right;\">\n",
       "      <th></th>\n",
       "      <th>Distance (KM)</th>\n",
       "      <th>Temperature</th>\n",
       "      <th>Precipitation in millimeters</th>\n",
       "      <th>Time from Pickup to Arrival</th>\n",
       "    </tr>\n",
       "    <tr>\n",
       "      <th>Order No</th>\n",
       "      <th></th>\n",
       "      <th></th>\n",
       "      <th></th>\n",
       "      <th></th>\n",
       "    </tr>\n",
       "  </thead>\n",
       "  <tbody>\n",
       "    <tr>\n",
       "      <td>Order_No_4211</td>\n",
       "      <td>4</td>\n",
       "      <td>20.4</td>\n",
       "      <td>0.0</td>\n",
       "      <td>745</td>\n",
       "    </tr>\n",
       "    <tr>\n",
       "      <td>Order_No_25375</td>\n",
       "      <td>16</td>\n",
       "      <td>26.4</td>\n",
       "      <td>0.0</td>\n",
       "      <td>1993</td>\n",
       "    </tr>\n",
       "    <tr>\n",
       "      <td>Order_No_9336</td>\n",
       "      <td>9</td>\n",
       "      <td>19.2</td>\n",
       "      <td>0.0</td>\n",
       "      <td>1341</td>\n",
       "    </tr>\n",
       "    <tr>\n",
       "      <td>Order_No_27883</td>\n",
       "      <td>9</td>\n",
       "      <td>15.4</td>\n",
       "      <td>0.0</td>\n",
       "      <td>1214</td>\n",
       "    </tr>\n",
       "    <tr>\n",
       "      <td>Order_No_7408</td>\n",
       "      <td>9</td>\n",
       "      <td>27.2</td>\n",
       "      <td>0.0</td>\n",
       "      <td>3191</td>\n",
       "    </tr>\n",
       "    <tr>\n",
       "      <td>...</td>\n",
       "      <td>...</td>\n",
       "      <td>...</td>\n",
       "      <td>...</td>\n",
       "      <td>...</td>\n",
       "    </tr>\n",
       "    <tr>\n",
       "      <td>Order_No_8834</td>\n",
       "      <td>3</td>\n",
       "      <td>28.6</td>\n",
       "      <td>0.0</td>\n",
       "      <td>9</td>\n",
       "    </tr>\n",
       "    <tr>\n",
       "      <td>Order_No_22892</td>\n",
       "      <td>7</td>\n",
       "      <td>26.0</td>\n",
       "      <td>0.0</td>\n",
       "      <td>770</td>\n",
       "    </tr>\n",
       "    <tr>\n",
       "      <td>Order_No_2831</td>\n",
       "      <td>20</td>\n",
       "      <td>29.2</td>\n",
       "      <td>0.0</td>\n",
       "      <td>2953</td>\n",
       "    </tr>\n",
       "    <tr>\n",
       "      <td>Order_No_6174</td>\n",
       "      <td>13</td>\n",
       "      <td>15.0</td>\n",
       "      <td>0.0</td>\n",
       "      <td>1380</td>\n",
       "    </tr>\n",
       "    <tr>\n",
       "      <td>Order_No_9836</td>\n",
       "      <td>12</td>\n",
       "      <td>30.9</td>\n",
       "      <td>0.0</td>\n",
       "      <td>2128</td>\n",
       "    </tr>\n",
       "  </tbody>\n",
       "</table>\n",
       "<p>16835 rows × 4 columns</p>\n",
       "</div>"
      ],
      "text/plain": [
       "                Distance (KM)  Temperature  Precipitation in millimeters  \\\n",
       "Order No                                                                   \n",
       "Order_No_4211               4         20.4                           0.0   \n",
       "Order_No_25375             16         26.4                           0.0   \n",
       "Order_No_9336               9         19.2                           0.0   \n",
       "Order_No_27883              9         15.4                           0.0   \n",
       "Order_No_7408               9         27.2                           0.0   \n",
       "...                       ...          ...                           ...   \n",
       "Order_No_8834               3         28.6                           0.0   \n",
       "Order_No_22892              7         26.0                           0.0   \n",
       "Order_No_2831              20         29.2                           0.0   \n",
       "Order_No_6174              13         15.0                           0.0   \n",
       "Order_No_9836              12         30.9                           0.0   \n",
       "\n",
       "                Time from Pickup to Arrival  \n",
       "Order No                                     \n",
       "Order_No_4211                           745  \n",
       "Order_No_25375                         1993  \n",
       "Order_No_9336                          1341  \n",
       "Order_No_27883                         1214  \n",
       "Order_No_7408                          3191  \n",
       "...                                     ...  \n",
       "Order_No_8834                             9  \n",
       "Order_No_22892                          770  \n",
       "Order_No_2831                          2953  \n",
       "Order_No_6174                          1380  \n",
       "Order_No_9836                          2128  \n",
       "\n",
       "[16835 rows x 4 columns]"
      ]
     },
     "execution_count": 48,
     "metadata": {},
     "output_type": "execute_result"
    }
   ],
   "source": [
    "train"
   ]
  },
  {
   "cell_type": "code",
   "execution_count": 49,
   "metadata": {
    "scrolled": false
   },
   "outputs": [
    {
     "data": {
      "text/html": [
       "<div>\n",
       "<style scoped>\n",
       "    .dataframe tbody tr th:only-of-type {\n",
       "        vertical-align: middle;\n",
       "    }\n",
       "\n",
       "    .dataframe tbody tr th {\n",
       "        vertical-align: top;\n",
       "    }\n",
       "\n",
       "    .dataframe thead th {\n",
       "        text-align: right;\n",
       "    }\n",
       "</style>\n",
       "<table border=\"1\" class=\"dataframe\">\n",
       "  <thead>\n",
       "    <tr style=\"text-align: right;\">\n",
       "      <th></th>\n",
       "      <th>Distance (KM)</th>\n",
       "      <th>Temperature</th>\n",
       "      <th>Precipitation in millimeters</th>\n",
       "    </tr>\n",
       "    <tr>\n",
       "      <th>Order No</th>\n",
       "      <th></th>\n",
       "      <th></th>\n",
       "      <th></th>\n",
       "    </tr>\n",
       "  </thead>\n",
       "  <tbody>\n",
       "    <tr>\n",
       "      <td>Order_No_768</td>\n",
       "      <td>5</td>\n",
       "      <td>22.8</td>\n",
       "      <td>0.0</td>\n",
       "    </tr>\n",
       "    <tr>\n",
       "      <td>Order_No_15332</td>\n",
       "      <td>5</td>\n",
       "      <td>24.5</td>\n",
       "      <td>0.0</td>\n",
       "    </tr>\n",
       "    <tr>\n",
       "      <td>Order_No_21373</td>\n",
       "      <td>6</td>\n",
       "      <td>24.4</td>\n",
       "      <td>0.0</td>\n",
       "    </tr>\n",
       "    <tr>\n",
       "      <td>Order_No_14573</td>\n",
       "      <td>16</td>\n",
       "      <td>19.3</td>\n",
       "      <td>0.0</td>\n",
       "    </tr>\n",
       "    <tr>\n",
       "      <td>Order_No_6731</td>\n",
       "      <td>18</td>\n",
       "      <td>20.9</td>\n",
       "      <td>0.0</td>\n",
       "    </tr>\n",
       "    <tr>\n",
       "      <td>...</td>\n",
       "      <td>...</td>\n",
       "      <td>...</td>\n",
       "      <td>...</td>\n",
       "    </tr>\n",
       "    <tr>\n",
       "      <td>Order_No_3612</td>\n",
       "      <td>5</td>\n",
       "      <td>24.8</td>\n",
       "      <td>0.0</td>\n",
       "    </tr>\n",
       "    <tr>\n",
       "      <td>Order_No_7657</td>\n",
       "      <td>22</td>\n",
       "      <td>30.7</td>\n",
       "      <td>0.0</td>\n",
       "    </tr>\n",
       "    <tr>\n",
       "      <td>Order_No_1969</td>\n",
       "      <td>10</td>\n",
       "      <td>25.1</td>\n",
       "      <td>0.0</td>\n",
       "    </tr>\n",
       "    <tr>\n",
       "      <td>Order_No_10591</td>\n",
       "      <td>18</td>\n",
       "      <td>23.6</td>\n",
       "      <td>0.0</td>\n",
       "    </tr>\n",
       "    <tr>\n",
       "      <td>Order_No_1603</td>\n",
       "      <td>8</td>\n",
       "      <td>22.3</td>\n",
       "      <td>0.0</td>\n",
       "    </tr>\n",
       "  </tbody>\n",
       "</table>\n",
       "<p>5631 rows × 3 columns</p>\n",
       "</div>"
      ],
      "text/plain": [
       "                Distance (KM)  Temperature  Precipitation in millimeters\n",
       "Order No                                                                \n",
       "Order_No_768                5         22.8                           0.0\n",
       "Order_No_15332              5         24.5                           0.0\n",
       "Order_No_21373              6         24.4                           0.0\n",
       "Order_No_14573             16         19.3                           0.0\n",
       "Order_No_6731              18         20.9                           0.0\n",
       "...                       ...          ...                           ...\n",
       "Order_No_3612               5         24.8                           0.0\n",
       "Order_No_7657              22         30.7                           0.0\n",
       "Order_No_1969              10         25.1                           0.0\n",
       "Order_No_10591             18         23.6                           0.0\n",
       "Order_No_1603               8         22.3                           0.0\n",
       "\n",
       "[5631 rows x 3 columns]"
      ]
     },
     "execution_count": 49,
     "metadata": {},
     "output_type": "execute_result"
    }
   ],
   "source": [
    "test"
   ]
  },
  {
   "cell_type": "markdown",
   "metadata": {},
   "source": [
    "### Feature Scaling"
   ]
  },
  {
   "cell_type": "code",
   "execution_count": 7,
   "metadata": {},
   "outputs": [],
   "source": [
    "from sklearn.preprocessing import StandardScaler\n",
    "sc = StandardScaler()\n",
    "X_train = sc.fit_transform(X_train)\n",
    "X_test = sc.transform(X_test)"
   ]
  },
  {
   "cell_type": "code",
   "execution_count": 8,
   "metadata": {},
   "outputs": [
    {
     "data": {
      "text/plain": [
       "array([[-0.79503033, -0.12691711, -0.0763033 ],\n",
       "       [-0.79503033,  0.34325973, -0.0763033 ],\n",
       "       [-0.61943127,  0.31560227, -0.0763033 ],\n",
       "       ...,\n",
       "       [ 0.08296495,  0.5092045 , -0.0763033 ],\n",
       "       [ 1.48775739,  0.09434258, -0.0763033 ],\n",
       "       [-0.26823316, -0.26520441, -0.0763033 ]])"
      ]
     },
     "execution_count": 8,
     "metadata": {},
     "output_type": "execute_result"
    }
   ],
   "source": [
    "X_test"
   ]
  },
  {
   "cell_type": "code",
   "execution_count": 9,
   "metadata": {},
   "outputs": [
    {
     "data": {
      "text/plain": [
       "array([[-0.97062938, -0.79069617, -0.0763033 ],\n",
       "       [ 1.13655928,  0.86875149, -0.0763033 ],\n",
       "       [-0.09263411, -1.1225857 , -0.0763033 ],\n",
       "       ...,\n",
       "       [ 1.8389555 ,  1.64316039, -0.0763033 ],\n",
       "       [ 0.60976211, -2.28419906, -0.0763033 ],\n",
       "       [ 0.43416306,  2.11333723, -0.0763033 ]])"
      ]
     },
     "execution_count": 9,
     "metadata": {},
     "output_type": "execute_result"
    }
   ],
   "source": [
    "X_train"
   ]
  },
  {
   "cell_type": "markdown",
   "metadata": {},
   "source": [
    "### Multi-linear Training"
   ]
  },
  {
   "cell_type": "code",
   "execution_count": 10,
   "metadata": {},
   "outputs": [
    {
     "data": {
      "text/plain": [
       "LinearRegression(copy_X=True, fit_intercept=True, n_jobs=None, normalize=False)"
      ]
     },
     "execution_count": 10,
     "metadata": {},
     "output_type": "execute_result"
    }
   ],
   "source": [
    "from sklearn.linear_model import LinearRegression\n",
    "regressor = LinearRegression()\n",
    "regressor.fit(X_train, Y_train)"
   ]
  },
  {
   "cell_type": "markdown",
   "metadata": {},
   "source": [
    "### Test Predict Results"
   ]
  },
  {
   "cell_type": "code",
   "execution_count": 42,
   "metadata": {},
   "outputs": [],
   "source": [
    "Y_pred = regressor.predict(X_test)\n",
    "Resp_var = np.round(Y_pred.reshape(len(Y_pred),1),2)"
   ]
  },
  {
   "cell_type": "code",
   "execution_count": 43,
   "metadata": {},
   "outputs": [],
   "source": [
    "Order_no = np.array(dataset_test['Order No']).reshape(len(dataset_test),1)"
   ]
  },
  {
   "cell_type": "code",
   "execution_count": 44,
   "metadata": {},
   "outputs": [],
   "source": [
    "Results = np.concatenate((Order_no,Resp_var),1)"
   ]
  },
  {
   "cell_type": "code",
   "execution_count": 45,
   "metadata": {},
   "outputs": [],
   "source": [
    "Results_df = pd.DataFrame(Results,columns=['Order_No', 'Time from Pickup to Arrival'])"
   ]
  },
  {
   "cell_type": "code",
   "execution_count": 46,
   "metadata": {},
   "outputs": [
    {
     "data": {
      "text/html": [
       "<div>\n",
       "<style scoped>\n",
       "    .dataframe tbody tr th:only-of-type {\n",
       "        vertical-align: middle;\n",
       "    }\n",
       "\n",
       "    .dataframe tbody tr th {\n",
       "        vertical-align: top;\n",
       "    }\n",
       "\n",
       "    .dataframe thead th {\n",
       "        text-align: right;\n",
       "    }\n",
       "</style>\n",
       "<table border=\"1\" class=\"dataframe\">\n",
       "  <thead>\n",
       "    <tr style=\"text-align: right;\">\n",
       "      <th></th>\n",
       "      <th>Order_No</th>\n",
       "      <th>Time from Pickup to Arrival</th>\n",
       "    </tr>\n",
       "  </thead>\n",
       "  <tbody>\n",
       "    <tr>\n",
       "      <td>0</td>\n",
       "      <td>Order_No_768</td>\n",
       "      <td>1103.89</td>\n",
       "    </tr>\n",
       "    <tr>\n",
       "      <td>1</td>\n",
       "      <td>Order_No_15332</td>\n",
       "      <td>1107.96</td>\n",
       "    </tr>\n",
       "    <tr>\n",
       "      <td>2</td>\n",
       "      <td>Order_No_21373</td>\n",
       "      <td>1209.34</td>\n",
       "    </tr>\n",
       "    <tr>\n",
       "      <td>3</td>\n",
       "      <td>Order_No_14573</td>\n",
       "      <td>2213.38</td>\n",
       "    </tr>\n",
       "    <tr>\n",
       "      <td>4</td>\n",
       "      <td>Order_No_6731</td>\n",
       "      <td>2420.46</td>\n",
       "    </tr>\n",
       "    <tr>\n",
       "      <td>...</td>\n",
       "      <td>...</td>\n",
       "      <td>...</td>\n",
       "    </tr>\n",
       "    <tr>\n",
       "      <td>5626</td>\n",
       "      <td>Order_No_3612</td>\n",
       "      <td>1108.67</td>\n",
       "    </tr>\n",
       "    <tr>\n",
       "      <td>5627</td>\n",
       "      <td>Order_No_7657</td>\n",
       "      <td>2850.39</td>\n",
       "    </tr>\n",
       "    <tr>\n",
       "      <td>5628</td>\n",
       "      <td>Order_No_1969</td>\n",
       "      <td>1617.51</td>\n",
       "    </tr>\n",
       "    <tr>\n",
       "      <td>5629</td>\n",
       "      <td>Order_No_10591</td>\n",
       "      <td>2426.91</td>\n",
       "    </tr>\n",
       "    <tr>\n",
       "      <td>5630</td>\n",
       "      <td>Order_No_1603</td>\n",
       "      <td>1407.57</td>\n",
       "    </tr>\n",
       "  </tbody>\n",
       "</table>\n",
       "<p>5631 rows × 2 columns</p>\n",
       "</div>"
      ],
      "text/plain": [
       "            Order_No Time from Pickup to Arrival\n",
       "0       Order_No_768                     1103.89\n",
       "1     Order_No_15332                     1107.96\n",
       "2     Order_No_21373                     1209.34\n",
       "3     Order_No_14573                     2213.38\n",
       "4      Order_No_6731                     2420.46\n",
       "...              ...                         ...\n",
       "5626   Order_No_3612                     1108.67\n",
       "5627   Order_No_7657                     2850.39\n",
       "5628   Order_No_1969                     1617.51\n",
       "5629  Order_No_10591                     2426.91\n",
       "5630   Order_No_1603                     1407.57\n",
       "\n",
       "[5631 rows x 2 columns]"
      ]
     },
     "execution_count": 46,
     "metadata": {},
     "output_type": "execute_result"
    }
   ],
   "source": [
    "Results_df"
   ]
  },
  {
   "cell_type": "code",
   "execution_count": 47,
   "metadata": {},
   "outputs": [],
   "source": [
    "Results_df.to_csv('Predicted(Multi-linear-FM).csv',index=False)"
   ]
  }
 ],
 "metadata": {
  "kernelspec": {
   "display_name": "Python 3",
   "language": "python",
   "name": "python3"
  },
  "language_info": {
   "codemirror_mode": {
    "name": "ipython",
    "version": 3
   },
   "file_extension": ".py",
   "mimetype": "text/x-python",
   "name": "python",
   "nbconvert_exporter": "python",
   "pygments_lexer": "ipython3",
   "version": "3.7.4"
  }
 },
 "nbformat": 4,
 "nbformat_minor": 2
}
