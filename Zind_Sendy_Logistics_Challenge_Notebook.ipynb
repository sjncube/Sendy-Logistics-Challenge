{
  "nbformat": 4,
  "nbformat_minor": 0,
  "metadata": {
    "kernelspec": {
      "display_name": "Python 3",
      "language": "python",
      "name": "python3"
    },
    "language_info": {
      "codemirror_mode": {
        "name": "ipython",
        "version": 3
      },
      "file_extension": ".py",
      "mimetype": "text/x-python",
      "name": "python",
      "nbconvert_exporter": "python",
      "pygments_lexer": "ipython3",
      "version": "3.7.4"
    },
    "colab": {
      "name": "Zind Sendy Logistics Challenge Notebook.ipynb",
      "provenance": [],
      "collapsed_sections": [],
      "toc_visible": true,
      "include_colab_link": true
    }
  },
  "cells": [
    {
      "cell_type": "markdown",
      "metadata": {
        "id": "view-in-github",
        "colab_type": "text"
      },
      "source": [
        "<a href=\"https://colab.research.google.com/github/sjncube/Sendy-Logistics-Challenge/blob/master/Zind_Sendy_Logistics_Challenge_Notebook.ipynb\" target=\"_parent\"><img src=\"https://colab.research.google.com/assets/colab-badge.svg\" alt=\"Open In Colab\"/></a>"
      ]
    },
    {
      "cell_type": "markdown",
      "metadata": {
        "id": "8olT7OcmIpge",
        "colab_type": "text"
      },
      "source": [
        "# Zindi Sendy Logistics Challenge"
      ]
    },
    {
      "cell_type": "markdown",
      "metadata": {
        "id": "Y7NH8ofBIpgh",
        "colab_type": "text"
      },
      "source": [
        "## Introduction\n",
        "\n",
        "This notebook shows the workings of **Team 6** on finding a solution to the Sendy Logistics Challenge of using machine learning with an emphasis on regression analysis and related techniques to **estimate/predict the time of arrival for orders from pick-up to drop-off**.\n",
        "\n",
        "The dataset (direct oders with bikes in Nirobi) provided includes:\n",
        " - Training dataset - a subset of over 20,000 direct orders to train the model on.\n",
        " - Test dataset - a subset of over 7,000 direct orders to apply the model on.\n",
        " - Riders dataset - contains riders information\n",
        " - VariableDefinitions - Definitions of variables in the Train, Test and Riders datasets\n",
        "\n",
        "TEAM 6 MEMBERS:\n",
        "\n",
        "  - Evans Marema\n",
        "  - Sizwe Ncube\n",
        "  - Shraddha Rajcoomar\n",
        "  - Toby Masuku\n",
        "  - Sandile Dladla\n"
      ]
    },
    {
      "cell_type": "markdown",
      "metadata": {
        "id": "s-0Mal-YIpgk",
        "colab_type": "text"
      },
      "source": [
        "### Library Imports "
      ]
    },
    {
      "cell_type": "code",
      "metadata": {
        "id": "ufMAhKX3Ipgm",
        "colab_type": "code",
        "colab": {}
      },
      "source": [
        "# Data-frames and array manupilation\n",
        "import numpy as np\n",
        "import pandas as pd\n",
        "\n",
        "# Plotting graphs\n",
        "import matplotlib.pyplot as plt\n",
        "import matplotlib.style as style\n",
        "import seaborn as sns\n",
        "%matplotlib inline\n",
        "\n",
        "# Data Preprocessing\n",
        "from sklearn.preprocessing import LabelEncoder\n",
        "from sklearn.preprocessing import StandardScaler\n",
        "from sklearn.compose import make_column_transformer\n",
        "from sklearn.preprocessing import OneHotEncoder\n",
        "\n",
        "# Model Bulding and Traing \n",
        "from sklearn.model_selection import train_test_split\n",
        "from sklearn import linear_model\n",
        "from sklearn.linear_model import LinearRegression, Ridge, Lasso\n",
        "from sklearn.tree import DecisionTreeRegressor\n",
        "from sklearn.ensemble import RandomForestRegressor\n",
        "from sklearn.svm import SVR\n",
        "\n",
        "# Model Evalution\n",
        "from sklearn.metrics import mean_squared_error, r2_score\n",
        "\n",
        "# Model Boosting\n",
        "from sklearn.model_selection import RandomizedSearchCV"
      ],
      "execution_count": 0,
      "outputs": []
    },
    {
      "cell_type": "markdown",
      "metadata": {
        "id": "JHWyVFB0Ipgu",
        "colab_type": "text"
      },
      "source": [
        "### Data Imports"
      ]
    },
    {
      "cell_type": "code",
      "metadata": {
        "id": "oty1HypqIpgv",
        "colab_type": "code",
        "colab": {}
      },
      "source": [
        "# Traing dataset\n",
        "dataset_train = pd.read_csv('Train.csv')\n",
        "\n",
        "# Test dataset\n",
        "dataset_test = pd.read_csv('Test.csv')\n",
        "\n",
        "# Rider info\n",
        "dataset_rider = pd.read_csv('Riders.csv')\n",
        "\n",
        "# Variable definition\n",
        "variables = pd.read_csv('VariableDefinitions.csv')"
      ],
      "execution_count": 0,
      "outputs": []
    },
    {
      "cell_type": "code",
      "metadata": {
        "id": "ScwMhXBeIpg5",
        "colab_type": "code",
        "outputId": "59f7011b-ecc1-4203-98db-5225bd0e533b",
        "colab": {
          "base_uri": "https://localhost:8080/",
          "height": 411
        }
      },
      "source": [
        "dataset_train.head()"
      ],
      "execution_count": 58,
      "outputs": [
        {
          "output_type": "execute_result",
          "data": {
            "text/html": [
              "<div>\n",
              "<style scoped>\n",
              "    .dataframe tbody tr th:only-of-type {\n",
              "        vertical-align: middle;\n",
              "    }\n",
              "\n",
              "    .dataframe tbody tr th {\n",
              "        vertical-align: top;\n",
              "    }\n",
              "\n",
              "    .dataframe thead th {\n",
              "        text-align: right;\n",
              "    }\n",
              "</style>\n",
              "<table border=\"1\" class=\"dataframe\">\n",
              "  <thead>\n",
              "    <tr style=\"text-align: right;\">\n",
              "      <th></th>\n",
              "      <th>Order No</th>\n",
              "      <th>User Id</th>\n",
              "      <th>Vehicle Type</th>\n",
              "      <th>Platform Type</th>\n",
              "      <th>Personal or Business</th>\n",
              "      <th>Placement - Day of Month</th>\n",
              "      <th>Placement - Weekday (Mo = 1)</th>\n",
              "      <th>Placement - Time</th>\n",
              "      <th>Confirmation - Day of Month</th>\n",
              "      <th>Confirmation - Weekday (Mo = 1)</th>\n",
              "      <th>Confirmation - Time</th>\n",
              "      <th>Arrival at Pickup - Day of Month</th>\n",
              "      <th>Arrival at Pickup - Weekday (Mo = 1)</th>\n",
              "      <th>Arrival at Pickup - Time</th>\n",
              "      <th>Pickup - Day of Month</th>\n",
              "      <th>Pickup - Weekday (Mo = 1)</th>\n",
              "      <th>Pickup - Time</th>\n",
              "      <th>Arrival at Destination - Day of Month</th>\n",
              "      <th>Arrival at Destination - Weekday (Mo = 1)</th>\n",
              "      <th>Arrival at Destination - Time</th>\n",
              "      <th>Distance (KM)</th>\n",
              "      <th>Temperature</th>\n",
              "      <th>Precipitation in millimeters</th>\n",
              "      <th>Pickup Lat</th>\n",
              "      <th>Pickup Long</th>\n",
              "      <th>Destination Lat</th>\n",
              "      <th>Destination Long</th>\n",
              "      <th>Rider Id</th>\n",
              "      <th>Time from Pickup to Arrival</th>\n",
              "    </tr>\n",
              "  </thead>\n",
              "  <tbody>\n",
              "    <tr>\n",
              "      <th>0</th>\n",
              "      <td>Order_No_4211</td>\n",
              "      <td>User_Id_633</td>\n",
              "      <td>Bike</td>\n",
              "      <td>3</td>\n",
              "      <td>Business</td>\n",
              "      <td>9</td>\n",
              "      <td>5</td>\n",
              "      <td>9:35:46 AM</td>\n",
              "      <td>9</td>\n",
              "      <td>5</td>\n",
              "      <td>9:40:10 AM</td>\n",
              "      <td>9</td>\n",
              "      <td>5</td>\n",
              "      <td>10:04:47 AM</td>\n",
              "      <td>9</td>\n",
              "      <td>5</td>\n",
              "      <td>10:27:30 AM</td>\n",
              "      <td>9</td>\n",
              "      <td>5</td>\n",
              "      <td>10:39:55 AM</td>\n",
              "      <td>4</td>\n",
              "      <td>20.4</td>\n",
              "      <td>NaN</td>\n",
              "      <td>-1.317755</td>\n",
              "      <td>36.830370</td>\n",
              "      <td>-1.300406</td>\n",
              "      <td>36.829741</td>\n",
              "      <td>Rider_Id_432</td>\n",
              "      <td>745</td>\n",
              "    </tr>\n",
              "    <tr>\n",
              "      <th>1</th>\n",
              "      <td>Order_No_25375</td>\n",
              "      <td>User_Id_2285</td>\n",
              "      <td>Bike</td>\n",
              "      <td>3</td>\n",
              "      <td>Personal</td>\n",
              "      <td>12</td>\n",
              "      <td>5</td>\n",
              "      <td>11:16:16 AM</td>\n",
              "      <td>12</td>\n",
              "      <td>5</td>\n",
              "      <td>11:23:21 AM</td>\n",
              "      <td>12</td>\n",
              "      <td>5</td>\n",
              "      <td>11:40:22 AM</td>\n",
              "      <td>12</td>\n",
              "      <td>5</td>\n",
              "      <td>11:44:09 AM</td>\n",
              "      <td>12</td>\n",
              "      <td>5</td>\n",
              "      <td>12:17:22 PM</td>\n",
              "      <td>16</td>\n",
              "      <td>26.4</td>\n",
              "      <td>NaN</td>\n",
              "      <td>-1.351453</td>\n",
              "      <td>36.899315</td>\n",
              "      <td>-1.295004</td>\n",
              "      <td>36.814358</td>\n",
              "      <td>Rider_Id_856</td>\n",
              "      <td>1993</td>\n",
              "    </tr>\n",
              "    <tr>\n",
              "      <th>2</th>\n",
              "      <td>Order_No_1899</td>\n",
              "      <td>User_Id_265</td>\n",
              "      <td>Bike</td>\n",
              "      <td>3</td>\n",
              "      <td>Business</td>\n",
              "      <td>30</td>\n",
              "      <td>2</td>\n",
              "      <td>12:39:25 PM</td>\n",
              "      <td>30</td>\n",
              "      <td>2</td>\n",
              "      <td>12:42:44 PM</td>\n",
              "      <td>30</td>\n",
              "      <td>2</td>\n",
              "      <td>12:49:34 PM</td>\n",
              "      <td>30</td>\n",
              "      <td>2</td>\n",
              "      <td>12:53:03 PM</td>\n",
              "      <td>30</td>\n",
              "      <td>2</td>\n",
              "      <td>1:00:38 PM</td>\n",
              "      <td>3</td>\n",
              "      <td>NaN</td>\n",
              "      <td>NaN</td>\n",
              "      <td>-1.308284</td>\n",
              "      <td>36.843419</td>\n",
              "      <td>-1.300921</td>\n",
              "      <td>36.828195</td>\n",
              "      <td>Rider_Id_155</td>\n",
              "      <td>455</td>\n",
              "    </tr>\n",
              "    <tr>\n",
              "      <th>3</th>\n",
              "      <td>Order_No_9336</td>\n",
              "      <td>User_Id_1402</td>\n",
              "      <td>Bike</td>\n",
              "      <td>3</td>\n",
              "      <td>Business</td>\n",
              "      <td>15</td>\n",
              "      <td>5</td>\n",
              "      <td>9:25:34 AM</td>\n",
              "      <td>15</td>\n",
              "      <td>5</td>\n",
              "      <td>9:26:05 AM</td>\n",
              "      <td>15</td>\n",
              "      <td>5</td>\n",
              "      <td>9:37:56 AM</td>\n",
              "      <td>15</td>\n",
              "      <td>5</td>\n",
              "      <td>9:43:06 AM</td>\n",
              "      <td>15</td>\n",
              "      <td>5</td>\n",
              "      <td>10:05:27 AM</td>\n",
              "      <td>9</td>\n",
              "      <td>19.2</td>\n",
              "      <td>NaN</td>\n",
              "      <td>-1.281301</td>\n",
              "      <td>36.832396</td>\n",
              "      <td>-1.257147</td>\n",
              "      <td>36.795063</td>\n",
              "      <td>Rider_Id_855</td>\n",
              "      <td>1341</td>\n",
              "    </tr>\n",
              "    <tr>\n",
              "      <th>4</th>\n",
              "      <td>Order_No_27883</td>\n",
              "      <td>User_Id_1737</td>\n",
              "      <td>Bike</td>\n",
              "      <td>1</td>\n",
              "      <td>Personal</td>\n",
              "      <td>13</td>\n",
              "      <td>1</td>\n",
              "      <td>9:55:18 AM</td>\n",
              "      <td>13</td>\n",
              "      <td>1</td>\n",
              "      <td>9:56:18 AM</td>\n",
              "      <td>13</td>\n",
              "      <td>1</td>\n",
              "      <td>10:03:53 AM</td>\n",
              "      <td>13</td>\n",
              "      <td>1</td>\n",
              "      <td>10:05:23 AM</td>\n",
              "      <td>13</td>\n",
              "      <td>1</td>\n",
              "      <td>10:25:37 AM</td>\n",
              "      <td>9</td>\n",
              "      <td>15.4</td>\n",
              "      <td>NaN</td>\n",
              "      <td>-1.266597</td>\n",
              "      <td>36.792118</td>\n",
              "      <td>-1.295041</td>\n",
              "      <td>36.809817</td>\n",
              "      <td>Rider_Id_770</td>\n",
              "      <td>1214</td>\n",
              "    </tr>\n",
              "  </tbody>\n",
              "</table>\n",
              "</div>"
            ],
            "text/plain": [
              "         Order No       User Id  ...      Rider Id  Time from Pickup to Arrival\n",
              "0   Order_No_4211   User_Id_633  ...  Rider_Id_432                          745\n",
              "1  Order_No_25375  User_Id_2285  ...  Rider_Id_856                         1993\n",
              "2   Order_No_1899   User_Id_265  ...  Rider_Id_155                          455\n",
              "3   Order_No_9336  User_Id_1402  ...  Rider_Id_855                         1341\n",
              "4  Order_No_27883  User_Id_1737  ...  Rider_Id_770                         1214\n",
              "\n",
              "[5 rows x 29 columns]"
            ]
          },
          "metadata": {
            "tags": []
          },
          "execution_count": 58
        }
      ]
    },
    {
      "cell_type": "code",
      "metadata": {
        "id": "qsVK2Z0sIphD",
        "colab_type": "code",
        "outputId": "3b57d3dd-2ae2-4eab-b489-0537e81d74c3",
        "colab": {
          "base_uri": "https://localhost:8080/",
          "height": 411
        }
      },
      "source": [
        "dataset_test.head()"
      ],
      "execution_count": 59,
      "outputs": [
        {
          "output_type": "execute_result",
          "data": {
            "text/html": [
              "<div>\n",
              "<style scoped>\n",
              "    .dataframe tbody tr th:only-of-type {\n",
              "        vertical-align: middle;\n",
              "    }\n",
              "\n",
              "    .dataframe tbody tr th {\n",
              "        vertical-align: top;\n",
              "    }\n",
              "\n",
              "    .dataframe thead th {\n",
              "        text-align: right;\n",
              "    }\n",
              "</style>\n",
              "<table border=\"1\" class=\"dataframe\">\n",
              "  <thead>\n",
              "    <tr style=\"text-align: right;\">\n",
              "      <th></th>\n",
              "      <th>Order No</th>\n",
              "      <th>User Id</th>\n",
              "      <th>Vehicle Type</th>\n",
              "      <th>Platform Type</th>\n",
              "      <th>Personal or Business</th>\n",
              "      <th>Placement - Day of Month</th>\n",
              "      <th>Placement - Weekday (Mo = 1)</th>\n",
              "      <th>Placement - Time</th>\n",
              "      <th>Confirmation - Day of Month</th>\n",
              "      <th>Confirmation - Weekday (Mo = 1)</th>\n",
              "      <th>Confirmation - Time</th>\n",
              "      <th>Arrival at Pickup - Day of Month</th>\n",
              "      <th>Arrival at Pickup - Weekday (Mo = 1)</th>\n",
              "      <th>Arrival at Pickup - Time</th>\n",
              "      <th>Pickup - Day of Month</th>\n",
              "      <th>Pickup - Weekday (Mo = 1)</th>\n",
              "      <th>Pickup - Time</th>\n",
              "      <th>Distance (KM)</th>\n",
              "      <th>Temperature</th>\n",
              "      <th>Precipitation in millimeters</th>\n",
              "      <th>Pickup Lat</th>\n",
              "      <th>Pickup Long</th>\n",
              "      <th>Destination Lat</th>\n",
              "      <th>Destination Long</th>\n",
              "      <th>Rider Id</th>\n",
              "    </tr>\n",
              "  </thead>\n",
              "  <tbody>\n",
              "    <tr>\n",
              "      <th>0</th>\n",
              "      <td>Order_No_19248</td>\n",
              "      <td>User_Id_3355</td>\n",
              "      <td>Bike</td>\n",
              "      <td>3</td>\n",
              "      <td>Business</td>\n",
              "      <td>27</td>\n",
              "      <td>3</td>\n",
              "      <td>4:44:10 PM</td>\n",
              "      <td>27</td>\n",
              "      <td>3</td>\n",
              "      <td>4:44:29 PM</td>\n",
              "      <td>27</td>\n",
              "      <td>3</td>\n",
              "      <td>4:53:04 PM</td>\n",
              "      <td>27</td>\n",
              "      <td>3</td>\n",
              "      <td>5:06:47 PM</td>\n",
              "      <td>8</td>\n",
              "      <td>NaN</td>\n",
              "      <td>NaN</td>\n",
              "      <td>-1.333275</td>\n",
              "      <td>36.870815</td>\n",
              "      <td>-1.305249</td>\n",
              "      <td>36.822390</td>\n",
              "      <td>Rider_Id_192</td>\n",
              "    </tr>\n",
              "    <tr>\n",
              "      <th>1</th>\n",
              "      <td>Order_No_12736</td>\n",
              "      <td>User_Id_3647</td>\n",
              "      <td>Bike</td>\n",
              "      <td>3</td>\n",
              "      <td>Business</td>\n",
              "      <td>17</td>\n",
              "      <td>5</td>\n",
              "      <td>12:57:35 PM</td>\n",
              "      <td>17</td>\n",
              "      <td>5</td>\n",
              "      <td>12:59:17 PM</td>\n",
              "      <td>17</td>\n",
              "      <td>5</td>\n",
              "      <td>1:20:27 PM</td>\n",
              "      <td>17</td>\n",
              "      <td>5</td>\n",
              "      <td>1:25:37 PM</td>\n",
              "      <td>5</td>\n",
              "      <td>NaN</td>\n",
              "      <td>NaN</td>\n",
              "      <td>-1.272639</td>\n",
              "      <td>36.794723</td>\n",
              "      <td>-1.277007</td>\n",
              "      <td>36.823907</td>\n",
              "      <td>Rider_Id_868</td>\n",
              "    </tr>\n",
              "    <tr>\n",
              "      <th>2</th>\n",
              "      <td>Order_No_768</td>\n",
              "      <td>User_Id_2154</td>\n",
              "      <td>Bike</td>\n",
              "      <td>3</td>\n",
              "      <td>Business</td>\n",
              "      <td>27</td>\n",
              "      <td>4</td>\n",
              "      <td>11:08:14 AM</td>\n",
              "      <td>27</td>\n",
              "      <td>4</td>\n",
              "      <td>11:25:05 AM</td>\n",
              "      <td>27</td>\n",
              "      <td>4</td>\n",
              "      <td>11:33:20 AM</td>\n",
              "      <td>27</td>\n",
              "      <td>4</td>\n",
              "      <td>11:57:54 AM</td>\n",
              "      <td>5</td>\n",
              "      <td>22.8</td>\n",
              "      <td>NaN</td>\n",
              "      <td>-1.290894</td>\n",
              "      <td>36.822971</td>\n",
              "      <td>-1.276574</td>\n",
              "      <td>36.851365</td>\n",
              "      <td>Rider_Id_26</td>\n",
              "    </tr>\n",
              "    <tr>\n",
              "      <th>3</th>\n",
              "      <td>Order_No_15332</td>\n",
              "      <td>User_Id_2910</td>\n",
              "      <td>Bike</td>\n",
              "      <td>3</td>\n",
              "      <td>Business</td>\n",
              "      <td>17</td>\n",
              "      <td>1</td>\n",
              "      <td>1:51:35 PM</td>\n",
              "      <td>17</td>\n",
              "      <td>1</td>\n",
              "      <td>1:53:27 PM</td>\n",
              "      <td>17</td>\n",
              "      <td>1</td>\n",
              "      <td>2:02:41 PM</td>\n",
              "      <td>17</td>\n",
              "      <td>1</td>\n",
              "      <td>2:16:52 PM</td>\n",
              "      <td>5</td>\n",
              "      <td>24.5</td>\n",
              "      <td>NaN</td>\n",
              "      <td>-1.290503</td>\n",
              "      <td>36.809646</td>\n",
              "      <td>-1.303382</td>\n",
              "      <td>36.790658</td>\n",
              "      <td>Rider_Id_685</td>\n",
              "    </tr>\n",
              "    <tr>\n",
              "      <th>4</th>\n",
              "      <td>Order_No_21373</td>\n",
              "      <td>User_Id_1205</td>\n",
              "      <td>Bike</td>\n",
              "      <td>3</td>\n",
              "      <td>Business</td>\n",
              "      <td>11</td>\n",
              "      <td>2</td>\n",
              "      <td>11:30:28 AM</td>\n",
              "      <td>11</td>\n",
              "      <td>2</td>\n",
              "      <td>11:34:45 AM</td>\n",
              "      <td>11</td>\n",
              "      <td>2</td>\n",
              "      <td>11:47:19 AM</td>\n",
              "      <td>11</td>\n",
              "      <td>2</td>\n",
              "      <td>11:56:04 AM</td>\n",
              "      <td>6</td>\n",
              "      <td>24.4</td>\n",
              "      <td>NaN</td>\n",
              "      <td>-1.281081</td>\n",
              "      <td>36.814423</td>\n",
              "      <td>-1.266467</td>\n",
              "      <td>36.792161</td>\n",
              "      <td>Rider_Id_858</td>\n",
              "    </tr>\n",
              "  </tbody>\n",
              "</table>\n",
              "</div>"
            ],
            "text/plain": [
              "         Order No       User Id  ... Destination Long      Rider Id\n",
              "0  Order_No_19248  User_Id_3355  ...        36.822390  Rider_Id_192\n",
              "1  Order_No_12736  User_Id_3647  ...        36.823907  Rider_Id_868\n",
              "2    Order_No_768  User_Id_2154  ...        36.851365   Rider_Id_26\n",
              "3  Order_No_15332  User_Id_2910  ...        36.790658  Rider_Id_685\n",
              "4  Order_No_21373  User_Id_1205  ...        36.792161  Rider_Id_858\n",
              "\n",
              "[5 rows x 25 columns]"
            ]
          },
          "metadata": {
            "tags": []
          },
          "execution_count": 59
        }
      ]
    },
    {
      "cell_type": "code",
      "metadata": {
        "id": "_zixL2GvIphK",
        "colab_type": "code",
        "outputId": "f4deb1d3-1af8-49ae-f87c-60ee3f7af4a9",
        "colab": {
          "base_uri": "https://localhost:8080/",
          "height": 204
        }
      },
      "source": [
        "dataset_rider.head()"
      ],
      "execution_count": 60,
      "outputs": [
        {
          "output_type": "execute_result",
          "data": {
            "text/html": [
              "<div>\n",
              "<style scoped>\n",
              "    .dataframe tbody tr th:only-of-type {\n",
              "        vertical-align: middle;\n",
              "    }\n",
              "\n",
              "    .dataframe tbody tr th {\n",
              "        vertical-align: top;\n",
              "    }\n",
              "\n",
              "    .dataframe thead th {\n",
              "        text-align: right;\n",
              "    }\n",
              "</style>\n",
              "<table border=\"1\" class=\"dataframe\">\n",
              "  <thead>\n",
              "    <tr style=\"text-align: right;\">\n",
              "      <th></th>\n",
              "      <th>Rider Id</th>\n",
              "      <th>No_Of_Orders</th>\n",
              "      <th>Age</th>\n",
              "      <th>Average_Rating</th>\n",
              "      <th>No_of_Ratings</th>\n",
              "    </tr>\n",
              "  </thead>\n",
              "  <tbody>\n",
              "    <tr>\n",
              "      <th>0</th>\n",
              "      <td>Rider_Id_396</td>\n",
              "      <td>2946</td>\n",
              "      <td>2298</td>\n",
              "      <td>14.0</td>\n",
              "      <td>1159</td>\n",
              "    </tr>\n",
              "    <tr>\n",
              "      <th>1</th>\n",
              "      <td>Rider_Id_479</td>\n",
              "      <td>360</td>\n",
              "      <td>951</td>\n",
              "      <td>13.5</td>\n",
              "      <td>176</td>\n",
              "    </tr>\n",
              "    <tr>\n",
              "      <th>2</th>\n",
              "      <td>Rider_Id_648</td>\n",
              "      <td>1746</td>\n",
              "      <td>821</td>\n",
              "      <td>14.3</td>\n",
              "      <td>466</td>\n",
              "    </tr>\n",
              "    <tr>\n",
              "      <th>3</th>\n",
              "      <td>Rider_Id_753</td>\n",
              "      <td>314</td>\n",
              "      <td>980</td>\n",
              "      <td>12.5</td>\n",
              "      <td>75</td>\n",
              "    </tr>\n",
              "    <tr>\n",
              "      <th>4</th>\n",
              "      <td>Rider_Id_335</td>\n",
              "      <td>536</td>\n",
              "      <td>1113</td>\n",
              "      <td>13.7</td>\n",
              "      <td>156</td>\n",
              "    </tr>\n",
              "  </tbody>\n",
              "</table>\n",
              "</div>"
            ],
            "text/plain": [
              "       Rider Id  No_Of_Orders   Age  Average_Rating  No_of_Ratings\n",
              "0  Rider_Id_396          2946  2298            14.0           1159\n",
              "1  Rider_Id_479           360   951            13.5            176\n",
              "2  Rider_Id_648          1746   821            14.3            466\n",
              "3  Rider_Id_753           314   980            12.5             75\n",
              "4  Rider_Id_335           536  1113            13.7            156"
            ]
          },
          "metadata": {
            "tags": []
          },
          "execution_count": 60
        }
      ]
    },
    {
      "cell_type": "code",
      "metadata": {
        "scrolled": true,
        "id": "9Z1NNDvcIphR",
        "colab_type": "code",
        "outputId": "d6b80be1-c471-49d6-c7be-22a428dd1441",
        "colab": {
          "base_uri": "https://localhost:8080/",
          "height": 1000
        }
      },
      "source": [
        "variables"
      ],
      "execution_count": 61,
      "outputs": [
        {
          "output_type": "execute_result",
          "data": {
            "text/html": [
              "<div>\n",
              "<style scoped>\n",
              "    .dataframe tbody tr th:only-of-type {\n",
              "        vertical-align: middle;\n",
              "    }\n",
              "\n",
              "    .dataframe tbody tr th {\n",
              "        vertical-align: top;\n",
              "    }\n",
              "\n",
              "    .dataframe thead th {\n",
              "        text-align: right;\n",
              "    }\n",
              "</style>\n",
              "<table border=\"1\" class=\"dataframe\">\n",
              "  <thead>\n",
              "    <tr style=\"text-align: right;\">\n",
              "      <th></th>\n",
              "      <th>Order No</th>\n",
              "      <th>Unique number identifying the order</th>\n",
              "    </tr>\n",
              "  </thead>\n",
              "  <tbody>\n",
              "    <tr>\n",
              "      <th>0</th>\n",
              "      <td>User Id</td>\n",
              "      <td>Unique number identifying the customer on a pl...</td>\n",
              "    </tr>\n",
              "    <tr>\n",
              "      <th>1</th>\n",
              "      <td>Vehicle Type</td>\n",
              "      <td>For this competition limited to bikes, however...</td>\n",
              "    </tr>\n",
              "    <tr>\n",
              "      <th>2</th>\n",
              "      <td>Platform Type</td>\n",
              "      <td>Platform used to place the order, there are 4 ...</td>\n",
              "    </tr>\n",
              "    <tr>\n",
              "      <th>3</th>\n",
              "      <td>Personal or Business</td>\n",
              "      <td>Customer type</td>\n",
              "    </tr>\n",
              "    <tr>\n",
              "      <th>4</th>\n",
              "      <td>Placement - Day of Month</td>\n",
              "      <td>Placement - Day of Month i.e 1-31</td>\n",
              "    </tr>\n",
              "    <tr>\n",
              "      <th>5</th>\n",
              "      <td>Placement - Weekday (Mo = 1)</td>\n",
              "      <td>Placement - Weekday (Monday = 1)</td>\n",
              "    </tr>\n",
              "    <tr>\n",
              "      <th>6</th>\n",
              "      <td>Placement - Time</td>\n",
              "      <td>Placement - Time - Time of day the order was p...</td>\n",
              "    </tr>\n",
              "    <tr>\n",
              "      <th>7</th>\n",
              "      <td>Confirmation - Day of Month</td>\n",
              "      <td>Confirmation - Day of Month i.e 1-31</td>\n",
              "    </tr>\n",
              "    <tr>\n",
              "      <th>8</th>\n",
              "      <td>Confirmation - Weekday (Mo = 1)</td>\n",
              "      <td>Confirmation - Weekday (Monday = 1)</td>\n",
              "    </tr>\n",
              "    <tr>\n",
              "      <th>9</th>\n",
              "      <td>Confirmation - Time</td>\n",
              "      <td>Confirmation - Time - Time of day the order wa...</td>\n",
              "    </tr>\n",
              "    <tr>\n",
              "      <th>10</th>\n",
              "      <td>Arrival at Pickup - Day of Month</td>\n",
              "      <td>Arrival at Pickup - Day of Month i.e 1-31</td>\n",
              "    </tr>\n",
              "    <tr>\n",
              "      <th>11</th>\n",
              "      <td>Arrival at Pickup - Weekday (Mo = 1)</td>\n",
              "      <td>Arrival at Pickup - Weekday (Monday = 1)</td>\n",
              "    </tr>\n",
              "    <tr>\n",
              "      <th>12</th>\n",
              "      <td>Arrival at Pickup - Time</td>\n",
              "      <td>Time of day the the rider arrived at the locat...</td>\n",
              "    </tr>\n",
              "    <tr>\n",
              "      <th>13</th>\n",
              "      <td>Pickup - Day of Month</td>\n",
              "      <td>Pickup - Day of Month i.e 1-31</td>\n",
              "    </tr>\n",
              "    <tr>\n",
              "      <th>14</th>\n",
              "      <td>Pickup - Weekday (Mo = 1)</td>\n",
              "      <td>Pickup - Weekday (Monday = 1)</td>\n",
              "    </tr>\n",
              "    <tr>\n",
              "      <th>15</th>\n",
              "      <td>Pickup - Time</td>\n",
              "      <td>Pickup - Time - Time of day the the rider pick...</td>\n",
              "    </tr>\n",
              "    <tr>\n",
              "      <th>16</th>\n",
              "      <td>Arrival at Destination - Day of Month</td>\n",
              "      <td>Arrival at Delivery - Day of Month i.e 1-31</td>\n",
              "    </tr>\n",
              "    <tr>\n",
              "      <th>17</th>\n",
              "      <td>Arrival at Destination - Weekday (Mo = 1)</td>\n",
              "      <td>Arrival at Delivery - Weekday (Monday = 1)</td>\n",
              "    </tr>\n",
              "    <tr>\n",
              "      <th>18</th>\n",
              "      <td>Arrival at Destination - Time</td>\n",
              "      <td>Arrival at Delivery Time - Time of day the rid...</td>\n",
              "    </tr>\n",
              "    <tr>\n",
              "      <th>19</th>\n",
              "      <td>Distance (KM)</td>\n",
              "      <td>The distance from Pickup to Destination</td>\n",
              "    </tr>\n",
              "    <tr>\n",
              "      <th>20</th>\n",
              "      <td>Temperature</td>\n",
              "      <td>Temperature at the time of order placement in ...</td>\n",
              "    </tr>\n",
              "    <tr>\n",
              "      <th>21</th>\n",
              "      <td>Precipitation in millimeters</td>\n",
              "      <td>Precipitation at the time of order placement ...</td>\n",
              "    </tr>\n",
              "    <tr>\n",
              "      <th>22</th>\n",
              "      <td>Pickup Lat</td>\n",
              "      <td>Latitude of pick up location</td>\n",
              "    </tr>\n",
              "    <tr>\n",
              "      <th>23</th>\n",
              "      <td>Pickup Long</td>\n",
              "      <td>Longitude of pick up location</td>\n",
              "    </tr>\n",
              "    <tr>\n",
              "      <th>24</th>\n",
              "      <td>Destination Lat</td>\n",
              "      <td>Latitude of delivery location</td>\n",
              "    </tr>\n",
              "    <tr>\n",
              "      <th>25</th>\n",
              "      <td>Destination Long</td>\n",
              "      <td>Longitude of delivery location</td>\n",
              "    </tr>\n",
              "    <tr>\n",
              "      <th>26</th>\n",
              "      <td>Rider Id</td>\n",
              "      <td>ID of the Rider who accepted the order</td>\n",
              "    </tr>\n",
              "    <tr>\n",
              "      <th>27</th>\n",
              "      <td>Time from Pickup to Arrival</td>\n",
              "      <td>Time in seconds between 'Pickup' and 'Arrival ...</td>\n",
              "    </tr>\n",
              "    <tr>\n",
              "      <th>28</th>\n",
              "      <td>NaN</td>\n",
              "      <td>NaN</td>\n",
              "    </tr>\n",
              "    <tr>\n",
              "      <th>29</th>\n",
              "      <td>Rider Metrics</td>\n",
              "      <td>NaN</td>\n",
              "    </tr>\n",
              "    <tr>\n",
              "      <th>30</th>\n",
              "      <td>Rider Id</td>\n",
              "      <td>Unique number identifying the rider (same as i...</td>\n",
              "    </tr>\n",
              "    <tr>\n",
              "      <th>31</th>\n",
              "      <td>No_Of_Orders</td>\n",
              "      <td>Number of Orders the rider has delivered</td>\n",
              "    </tr>\n",
              "    <tr>\n",
              "      <th>32</th>\n",
              "      <td>Age</td>\n",
              "      <td>Number of days since the rider delivered the f...</td>\n",
              "    </tr>\n",
              "    <tr>\n",
              "      <th>33</th>\n",
              "      <td>Average_Rating</td>\n",
              "      <td>Average rating of the rider</td>\n",
              "    </tr>\n",
              "    <tr>\n",
              "      <th>34</th>\n",
              "      <td>No_of_Ratings</td>\n",
              "      <td>Number of ratings the rider has received. Rat...</td>\n",
              "    </tr>\n",
              "  </tbody>\n",
              "</table>\n",
              "</div>"
            ],
            "text/plain": [
              "                                     Order No                Unique number identifying the order\n",
              "0                                     User Id  Unique number identifying the customer on a pl...\n",
              "1                                Vehicle Type  For this competition limited to bikes, however...\n",
              "2                               Platform Type  Platform used to place the order, there are 4 ...\n",
              "3                        Personal or Business                                      Customer type\n",
              "4                    Placement - Day of Month                  Placement - Day of Month i.e 1-31\n",
              "5                Placement - Weekday (Mo = 1)                   Placement - Weekday (Monday = 1)\n",
              "6                            Placement - Time  Placement - Time - Time of day the order was p...\n",
              "7                 Confirmation - Day of Month               Confirmation - Day of Month i.e 1-31\n",
              "8             Confirmation - Weekday (Mo = 1)                Confirmation - Weekday (Monday = 1)\n",
              "9                         Confirmation - Time  Confirmation - Time - Time of day the order wa...\n",
              "10           Arrival at Pickup - Day of Month          Arrival at Pickup - Day of Month i.e 1-31\n",
              "11       Arrival at Pickup - Weekday (Mo = 1)           Arrival at Pickup - Weekday (Monday = 1)\n",
              "12                   Arrival at Pickup - Time  Time of day the the rider arrived at the locat...\n",
              "13                      Pickup - Day of Month                     Pickup - Day of Month i.e 1-31\n",
              "14                  Pickup - Weekday (Mo = 1)                      Pickup - Weekday (Monday = 1)\n",
              "15                              Pickup - Time  Pickup - Time - Time of day the the rider pick...\n",
              "16      Arrival at Destination - Day of Month        Arrival at Delivery - Day of Month i.e 1-31\n",
              "17  Arrival at Destination - Weekday (Mo = 1)         Arrival at Delivery - Weekday (Monday = 1)\n",
              "18              Arrival at Destination - Time  Arrival at Delivery Time - Time of day the rid...\n",
              "19                              Distance (KM)            The distance from Pickup to Destination\n",
              "20                                Temperature  Temperature at the time of order placement in ...\n",
              "21               Precipitation in millimeters   Precipitation at the time of order placement ...\n",
              "22                                 Pickup Lat                       Latitude of pick up location\n",
              "23                                Pickup Long                      Longitude of pick up location\n",
              "24                            Destination Lat                      Latitude of delivery location\n",
              "25                           Destination Long                     Longitude of delivery location\n",
              "26                                   Rider Id             ID of the Rider who accepted the order\n",
              "27                Time from Pickup to Arrival  Time in seconds between 'Pickup' and 'Arrival ...\n",
              "28                                        NaN                                                NaN\n",
              "29                              Rider Metrics                                                NaN\n",
              "30                                   Rider Id  Unique number identifying the rider (same as i...\n",
              "31                               No_Of_Orders           Number of Orders the rider has delivered\n",
              "32                                        Age  Number of days since the rider delivered the f...\n",
              "33                             Average_Rating                        Average rating of the rider\n",
              "34                              No_of_Ratings   Number of ratings the rider has received. Rat..."
            ]
          },
          "metadata": {
            "tags": []
          },
          "execution_count": 61
        }
      ]
    },
    {
      "cell_type": "code",
      "metadata": {
        "id": "B2EqE7ZBIphc",
        "colab_type": "code",
        "colab": {}
      },
      "source": [
        "# Merging both traing and test datasets with the riders' dataset\n",
        "dataset_train = dataset_train.merge(dataset_rider, how='left', on='Rider Id').set_index('Order No')\n",
        "dataset_test = dataset_test.merge(dataset_rider, how='left', on='Rider Id').set_index('Order No')"
      ],
      "execution_count": 0,
      "outputs": []
    },
    {
      "cell_type": "code",
      "metadata": {
        "id": "Ecu1639pIphi",
        "colab_type": "code",
        "outputId": "0a31e82b-1059-4920-ae25-e5c5fc828333",
        "colab": {
          "base_uri": "https://localhost:8080/",
          "height": 442
        }
      },
      "source": [
        "dataset_train.head()"
      ],
      "execution_count": 63,
      "outputs": [
        {
          "output_type": "execute_result",
          "data": {
            "text/html": [
              "<div>\n",
              "<style scoped>\n",
              "    .dataframe tbody tr th:only-of-type {\n",
              "        vertical-align: middle;\n",
              "    }\n",
              "\n",
              "    .dataframe tbody tr th {\n",
              "        vertical-align: top;\n",
              "    }\n",
              "\n",
              "    .dataframe thead th {\n",
              "        text-align: right;\n",
              "    }\n",
              "</style>\n",
              "<table border=\"1\" class=\"dataframe\">\n",
              "  <thead>\n",
              "    <tr style=\"text-align: right;\">\n",
              "      <th></th>\n",
              "      <th>User Id</th>\n",
              "      <th>Vehicle Type</th>\n",
              "      <th>Platform Type</th>\n",
              "      <th>Personal or Business</th>\n",
              "      <th>Placement - Day of Month</th>\n",
              "      <th>Placement - Weekday (Mo = 1)</th>\n",
              "      <th>Placement - Time</th>\n",
              "      <th>Confirmation - Day of Month</th>\n",
              "      <th>Confirmation - Weekday (Mo = 1)</th>\n",
              "      <th>Confirmation - Time</th>\n",
              "      <th>Arrival at Pickup - Day of Month</th>\n",
              "      <th>Arrival at Pickup - Weekday (Mo = 1)</th>\n",
              "      <th>Arrival at Pickup - Time</th>\n",
              "      <th>Pickup - Day of Month</th>\n",
              "      <th>Pickup - Weekday (Mo = 1)</th>\n",
              "      <th>Pickup - Time</th>\n",
              "      <th>Arrival at Destination - Day of Month</th>\n",
              "      <th>Arrival at Destination - Weekday (Mo = 1)</th>\n",
              "      <th>Arrival at Destination - Time</th>\n",
              "      <th>Distance (KM)</th>\n",
              "      <th>Temperature</th>\n",
              "      <th>Precipitation in millimeters</th>\n",
              "      <th>Pickup Lat</th>\n",
              "      <th>Pickup Long</th>\n",
              "      <th>Destination Lat</th>\n",
              "      <th>Destination Long</th>\n",
              "      <th>Rider Id</th>\n",
              "      <th>Time from Pickup to Arrival</th>\n",
              "      <th>No_Of_Orders</th>\n",
              "      <th>Age</th>\n",
              "      <th>Average_Rating</th>\n",
              "      <th>No_of_Ratings</th>\n",
              "    </tr>\n",
              "    <tr>\n",
              "      <th>Order No</th>\n",
              "      <th></th>\n",
              "      <th></th>\n",
              "      <th></th>\n",
              "      <th></th>\n",
              "      <th></th>\n",
              "      <th></th>\n",
              "      <th></th>\n",
              "      <th></th>\n",
              "      <th></th>\n",
              "      <th></th>\n",
              "      <th></th>\n",
              "      <th></th>\n",
              "      <th></th>\n",
              "      <th></th>\n",
              "      <th></th>\n",
              "      <th></th>\n",
              "      <th></th>\n",
              "      <th></th>\n",
              "      <th></th>\n",
              "      <th></th>\n",
              "      <th></th>\n",
              "      <th></th>\n",
              "      <th></th>\n",
              "      <th></th>\n",
              "      <th></th>\n",
              "      <th></th>\n",
              "      <th></th>\n",
              "      <th></th>\n",
              "      <th></th>\n",
              "      <th></th>\n",
              "      <th></th>\n",
              "      <th></th>\n",
              "    </tr>\n",
              "  </thead>\n",
              "  <tbody>\n",
              "    <tr>\n",
              "      <th>Order_No_4211</th>\n",
              "      <td>User_Id_633</td>\n",
              "      <td>Bike</td>\n",
              "      <td>3</td>\n",
              "      <td>Business</td>\n",
              "      <td>9</td>\n",
              "      <td>5</td>\n",
              "      <td>9:35:46 AM</td>\n",
              "      <td>9</td>\n",
              "      <td>5</td>\n",
              "      <td>9:40:10 AM</td>\n",
              "      <td>9</td>\n",
              "      <td>5</td>\n",
              "      <td>10:04:47 AM</td>\n",
              "      <td>9</td>\n",
              "      <td>5</td>\n",
              "      <td>10:27:30 AM</td>\n",
              "      <td>9</td>\n",
              "      <td>5</td>\n",
              "      <td>10:39:55 AM</td>\n",
              "      <td>4</td>\n",
              "      <td>20.4</td>\n",
              "      <td>NaN</td>\n",
              "      <td>-1.317755</td>\n",
              "      <td>36.830370</td>\n",
              "      <td>-1.300406</td>\n",
              "      <td>36.829741</td>\n",
              "      <td>Rider_Id_432</td>\n",
              "      <td>745</td>\n",
              "      <td>1637</td>\n",
              "      <td>1309</td>\n",
              "      <td>13.8</td>\n",
              "      <td>549</td>\n",
              "    </tr>\n",
              "    <tr>\n",
              "      <th>Order_No_25375</th>\n",
              "      <td>User_Id_2285</td>\n",
              "      <td>Bike</td>\n",
              "      <td>3</td>\n",
              "      <td>Personal</td>\n",
              "      <td>12</td>\n",
              "      <td>5</td>\n",
              "      <td>11:16:16 AM</td>\n",
              "      <td>12</td>\n",
              "      <td>5</td>\n",
              "      <td>11:23:21 AM</td>\n",
              "      <td>12</td>\n",
              "      <td>5</td>\n",
              "      <td>11:40:22 AM</td>\n",
              "      <td>12</td>\n",
              "      <td>5</td>\n",
              "      <td>11:44:09 AM</td>\n",
              "      <td>12</td>\n",
              "      <td>5</td>\n",
              "      <td>12:17:22 PM</td>\n",
              "      <td>16</td>\n",
              "      <td>26.4</td>\n",
              "      <td>NaN</td>\n",
              "      <td>-1.351453</td>\n",
              "      <td>36.899315</td>\n",
              "      <td>-1.295004</td>\n",
              "      <td>36.814358</td>\n",
              "      <td>Rider_Id_856</td>\n",
              "      <td>1993</td>\n",
              "      <td>396</td>\n",
              "      <td>339</td>\n",
              "      <td>13.6</td>\n",
              "      <td>69</td>\n",
              "    </tr>\n",
              "    <tr>\n",
              "      <th>Order_No_1899</th>\n",
              "      <td>User_Id_265</td>\n",
              "      <td>Bike</td>\n",
              "      <td>3</td>\n",
              "      <td>Business</td>\n",
              "      <td>30</td>\n",
              "      <td>2</td>\n",
              "      <td>12:39:25 PM</td>\n",
              "      <td>30</td>\n",
              "      <td>2</td>\n",
              "      <td>12:42:44 PM</td>\n",
              "      <td>30</td>\n",
              "      <td>2</td>\n",
              "      <td>12:49:34 PM</td>\n",
              "      <td>30</td>\n",
              "      <td>2</td>\n",
              "      <td>12:53:03 PM</td>\n",
              "      <td>30</td>\n",
              "      <td>2</td>\n",
              "      <td>1:00:38 PM</td>\n",
              "      <td>3</td>\n",
              "      <td>NaN</td>\n",
              "      <td>NaN</td>\n",
              "      <td>-1.308284</td>\n",
              "      <td>36.843419</td>\n",
              "      <td>-1.300921</td>\n",
              "      <td>36.828195</td>\n",
              "      <td>Rider_Id_155</td>\n",
              "      <td>455</td>\n",
              "      <td>1023</td>\n",
              "      <td>242</td>\n",
              "      <td>12.5</td>\n",
              "      <td>114</td>\n",
              "    </tr>\n",
              "    <tr>\n",
              "      <th>Order_No_9336</th>\n",
              "      <td>User_Id_1402</td>\n",
              "      <td>Bike</td>\n",
              "      <td>3</td>\n",
              "      <td>Business</td>\n",
              "      <td>15</td>\n",
              "      <td>5</td>\n",
              "      <td>9:25:34 AM</td>\n",
              "      <td>15</td>\n",
              "      <td>5</td>\n",
              "      <td>9:26:05 AM</td>\n",
              "      <td>15</td>\n",
              "      <td>5</td>\n",
              "      <td>9:37:56 AM</td>\n",
              "      <td>15</td>\n",
              "      <td>5</td>\n",
              "      <td>9:43:06 AM</td>\n",
              "      <td>15</td>\n",
              "      <td>5</td>\n",
              "      <td>10:05:27 AM</td>\n",
              "      <td>9</td>\n",
              "      <td>19.2</td>\n",
              "      <td>NaN</td>\n",
              "      <td>-1.281301</td>\n",
              "      <td>36.832396</td>\n",
              "      <td>-1.257147</td>\n",
              "      <td>36.795063</td>\n",
              "      <td>Rider_Id_855</td>\n",
              "      <td>1341</td>\n",
              "      <td>886</td>\n",
              "      <td>283</td>\n",
              "      <td>14.5</td>\n",
              "      <td>113</td>\n",
              "    </tr>\n",
              "    <tr>\n",
              "      <th>Order_No_27883</th>\n",
              "      <td>User_Id_1737</td>\n",
              "      <td>Bike</td>\n",
              "      <td>1</td>\n",
              "      <td>Personal</td>\n",
              "      <td>13</td>\n",
              "      <td>1</td>\n",
              "      <td>9:55:18 AM</td>\n",
              "      <td>13</td>\n",
              "      <td>1</td>\n",
              "      <td>9:56:18 AM</td>\n",
              "      <td>13</td>\n",
              "      <td>1</td>\n",
              "      <td>10:03:53 AM</td>\n",
              "      <td>13</td>\n",
              "      <td>1</td>\n",
              "      <td>10:05:23 AM</td>\n",
              "      <td>13</td>\n",
              "      <td>1</td>\n",
              "      <td>10:25:37 AM</td>\n",
              "      <td>9</td>\n",
              "      <td>15.4</td>\n",
              "      <td>NaN</td>\n",
              "      <td>-1.266597</td>\n",
              "      <td>36.792118</td>\n",
              "      <td>-1.295041</td>\n",
              "      <td>36.809817</td>\n",
              "      <td>Rider_Id_770</td>\n",
              "      <td>1214</td>\n",
              "      <td>2311</td>\n",
              "      <td>872</td>\n",
              "      <td>14.1</td>\n",
              "      <td>533</td>\n",
              "    </tr>\n",
              "  </tbody>\n",
              "</table>\n",
              "</div>"
            ],
            "text/plain": [
              "                     User Id Vehicle Type  ...  Average_Rating No_of_Ratings\n",
              "Order No                                   ...                              \n",
              "Order_No_4211    User_Id_633         Bike  ...            13.8           549\n",
              "Order_No_25375  User_Id_2285         Bike  ...            13.6            69\n",
              "Order_No_1899    User_Id_265         Bike  ...            12.5           114\n",
              "Order_No_9336   User_Id_1402         Bike  ...            14.5           113\n",
              "Order_No_27883  User_Id_1737         Bike  ...            14.1           533\n",
              "\n",
              "[5 rows x 32 columns]"
            ]
          },
          "metadata": {
            "tags": []
          },
          "execution_count": 63
        }
      ]
    },
    {
      "cell_type": "code",
      "metadata": {
        "id": "XFq1nEqwIphp",
        "colab_type": "code",
        "outputId": "2ecaed40-49e3-4c38-f4d3-e174ef7e71e6",
        "colab": {
          "base_uri": "https://localhost:8080/",
          "height": 442
        }
      },
      "source": [
        "dataset_test.head()"
      ],
      "execution_count": 64,
      "outputs": [
        {
          "output_type": "execute_result",
          "data": {
            "text/html": [
              "<div>\n",
              "<style scoped>\n",
              "    .dataframe tbody tr th:only-of-type {\n",
              "        vertical-align: middle;\n",
              "    }\n",
              "\n",
              "    .dataframe tbody tr th {\n",
              "        vertical-align: top;\n",
              "    }\n",
              "\n",
              "    .dataframe thead th {\n",
              "        text-align: right;\n",
              "    }\n",
              "</style>\n",
              "<table border=\"1\" class=\"dataframe\">\n",
              "  <thead>\n",
              "    <tr style=\"text-align: right;\">\n",
              "      <th></th>\n",
              "      <th>User Id</th>\n",
              "      <th>Vehicle Type</th>\n",
              "      <th>Platform Type</th>\n",
              "      <th>Personal or Business</th>\n",
              "      <th>Placement - Day of Month</th>\n",
              "      <th>Placement - Weekday (Mo = 1)</th>\n",
              "      <th>Placement - Time</th>\n",
              "      <th>Confirmation - Day of Month</th>\n",
              "      <th>Confirmation - Weekday (Mo = 1)</th>\n",
              "      <th>Confirmation - Time</th>\n",
              "      <th>Arrival at Pickup - Day of Month</th>\n",
              "      <th>Arrival at Pickup - Weekday (Mo = 1)</th>\n",
              "      <th>Arrival at Pickup - Time</th>\n",
              "      <th>Pickup - Day of Month</th>\n",
              "      <th>Pickup - Weekday (Mo = 1)</th>\n",
              "      <th>Pickup - Time</th>\n",
              "      <th>Distance (KM)</th>\n",
              "      <th>Temperature</th>\n",
              "      <th>Precipitation in millimeters</th>\n",
              "      <th>Pickup Lat</th>\n",
              "      <th>Pickup Long</th>\n",
              "      <th>Destination Lat</th>\n",
              "      <th>Destination Long</th>\n",
              "      <th>Rider Id</th>\n",
              "      <th>No_Of_Orders</th>\n",
              "      <th>Age</th>\n",
              "      <th>Average_Rating</th>\n",
              "      <th>No_of_Ratings</th>\n",
              "    </tr>\n",
              "    <tr>\n",
              "      <th>Order No</th>\n",
              "      <th></th>\n",
              "      <th></th>\n",
              "      <th></th>\n",
              "      <th></th>\n",
              "      <th></th>\n",
              "      <th></th>\n",
              "      <th></th>\n",
              "      <th></th>\n",
              "      <th></th>\n",
              "      <th></th>\n",
              "      <th></th>\n",
              "      <th></th>\n",
              "      <th></th>\n",
              "      <th></th>\n",
              "      <th></th>\n",
              "      <th></th>\n",
              "      <th></th>\n",
              "      <th></th>\n",
              "      <th></th>\n",
              "      <th></th>\n",
              "      <th></th>\n",
              "      <th></th>\n",
              "      <th></th>\n",
              "      <th></th>\n",
              "      <th></th>\n",
              "      <th></th>\n",
              "      <th></th>\n",
              "      <th></th>\n",
              "    </tr>\n",
              "  </thead>\n",
              "  <tbody>\n",
              "    <tr>\n",
              "      <th>Order_No_19248</th>\n",
              "      <td>User_Id_3355</td>\n",
              "      <td>Bike</td>\n",
              "      <td>3</td>\n",
              "      <td>Business</td>\n",
              "      <td>27</td>\n",
              "      <td>3</td>\n",
              "      <td>4:44:10 PM</td>\n",
              "      <td>27</td>\n",
              "      <td>3</td>\n",
              "      <td>4:44:29 PM</td>\n",
              "      <td>27</td>\n",
              "      <td>3</td>\n",
              "      <td>4:53:04 PM</td>\n",
              "      <td>27</td>\n",
              "      <td>3</td>\n",
              "      <td>5:06:47 PM</td>\n",
              "      <td>8</td>\n",
              "      <td>NaN</td>\n",
              "      <td>NaN</td>\n",
              "      <td>-1.333275</td>\n",
              "      <td>36.870815</td>\n",
              "      <td>-1.305249</td>\n",
              "      <td>36.822390</td>\n",
              "      <td>Rider_Id_192</td>\n",
              "      <td>439</td>\n",
              "      <td>1511</td>\n",
              "      <td>13.3</td>\n",
              "      <td>171</td>\n",
              "    </tr>\n",
              "    <tr>\n",
              "      <th>Order_No_12736</th>\n",
              "      <td>User_Id_3647</td>\n",
              "      <td>Bike</td>\n",
              "      <td>3</td>\n",
              "      <td>Business</td>\n",
              "      <td>17</td>\n",
              "      <td>5</td>\n",
              "      <td>12:57:35 PM</td>\n",
              "      <td>17</td>\n",
              "      <td>5</td>\n",
              "      <td>12:59:17 PM</td>\n",
              "      <td>17</td>\n",
              "      <td>5</td>\n",
              "      <td>1:20:27 PM</td>\n",
              "      <td>17</td>\n",
              "      <td>5</td>\n",
              "      <td>1:25:37 PM</td>\n",
              "      <td>5</td>\n",
              "      <td>NaN</td>\n",
              "      <td>NaN</td>\n",
              "      <td>-1.272639</td>\n",
              "      <td>36.794723</td>\n",
              "      <td>-1.277007</td>\n",
              "      <td>36.823907</td>\n",
              "      <td>Rider_Id_868</td>\n",
              "      <td>488</td>\n",
              "      <td>273</td>\n",
              "      <td>14.4</td>\n",
              "      <td>45</td>\n",
              "    </tr>\n",
              "    <tr>\n",
              "      <th>Order_No_768</th>\n",
              "      <td>User_Id_2154</td>\n",
              "      <td>Bike</td>\n",
              "      <td>3</td>\n",
              "      <td>Business</td>\n",
              "      <td>27</td>\n",
              "      <td>4</td>\n",
              "      <td>11:08:14 AM</td>\n",
              "      <td>27</td>\n",
              "      <td>4</td>\n",
              "      <td>11:25:05 AM</td>\n",
              "      <td>27</td>\n",
              "      <td>4</td>\n",
              "      <td>11:33:20 AM</td>\n",
              "      <td>27</td>\n",
              "      <td>4</td>\n",
              "      <td>11:57:54 AM</td>\n",
              "      <td>5</td>\n",
              "      <td>22.8</td>\n",
              "      <td>NaN</td>\n",
              "      <td>-1.290894</td>\n",
              "      <td>36.822971</td>\n",
              "      <td>-1.276574</td>\n",
              "      <td>36.851365</td>\n",
              "      <td>Rider_Id_26</td>\n",
              "      <td>833</td>\n",
              "      <td>460</td>\n",
              "      <td>13.1</td>\n",
              "      <td>67</td>\n",
              "    </tr>\n",
              "    <tr>\n",
              "      <th>Order_No_15332</th>\n",
              "      <td>User_Id_2910</td>\n",
              "      <td>Bike</td>\n",
              "      <td>3</td>\n",
              "      <td>Business</td>\n",
              "      <td>17</td>\n",
              "      <td>1</td>\n",
              "      <td>1:51:35 PM</td>\n",
              "      <td>17</td>\n",
              "      <td>1</td>\n",
              "      <td>1:53:27 PM</td>\n",
              "      <td>17</td>\n",
              "      <td>1</td>\n",
              "      <td>2:02:41 PM</td>\n",
              "      <td>17</td>\n",
              "      <td>1</td>\n",
              "      <td>2:16:52 PM</td>\n",
              "      <td>5</td>\n",
              "      <td>24.5</td>\n",
              "      <td>NaN</td>\n",
              "      <td>-1.290503</td>\n",
              "      <td>36.809646</td>\n",
              "      <td>-1.303382</td>\n",
              "      <td>36.790658</td>\n",
              "      <td>Rider_Id_685</td>\n",
              "      <td>487</td>\n",
              "      <td>560</td>\n",
              "      <td>13.7</td>\n",
              "      <td>44</td>\n",
              "    </tr>\n",
              "    <tr>\n",
              "      <th>Order_No_21373</th>\n",
              "      <td>User_Id_1205</td>\n",
              "      <td>Bike</td>\n",
              "      <td>3</td>\n",
              "      <td>Business</td>\n",
              "      <td>11</td>\n",
              "      <td>2</td>\n",
              "      <td>11:30:28 AM</td>\n",
              "      <td>11</td>\n",
              "      <td>2</td>\n",
              "      <td>11:34:45 AM</td>\n",
              "      <td>11</td>\n",
              "      <td>2</td>\n",
              "      <td>11:47:19 AM</td>\n",
              "      <td>11</td>\n",
              "      <td>2</td>\n",
              "      <td>11:56:04 AM</td>\n",
              "      <td>6</td>\n",
              "      <td>24.4</td>\n",
              "      <td>NaN</td>\n",
              "      <td>-1.281081</td>\n",
              "      <td>36.814423</td>\n",
              "      <td>-1.266467</td>\n",
              "      <td>36.792161</td>\n",
              "      <td>Rider_Id_858</td>\n",
              "      <td>4761</td>\n",
              "      <td>1120</td>\n",
              "      <td>14.1</td>\n",
              "      <td>1010</td>\n",
              "    </tr>\n",
              "  </tbody>\n",
              "</table>\n",
              "</div>"
            ],
            "text/plain": [
              "                     User Id Vehicle Type  ...  Average_Rating No_of_Ratings\n",
              "Order No                                   ...                              \n",
              "Order_No_19248  User_Id_3355         Bike  ...            13.3           171\n",
              "Order_No_12736  User_Id_3647         Bike  ...            14.4            45\n",
              "Order_No_768    User_Id_2154         Bike  ...            13.1            67\n",
              "Order_No_15332  User_Id_2910         Bike  ...            13.7            44\n",
              "Order_No_21373  User_Id_1205         Bike  ...            14.1          1010\n",
              "\n",
              "[5 rows x 28 columns]"
            ]
          },
          "metadata": {
            "tags": []
          },
          "execution_count": 64
        }
      ]
    },
    {
      "cell_type": "markdown",
      "metadata": {
        "id": "ke4ncL9bIphu",
        "colab_type": "text"
      },
      "source": [
        "### Exploritory Data Analysis (EDA)"
      ]
    },
    {
      "cell_type": "code",
      "metadata": {
        "id": "poG6L2mSIphv",
        "colab_type": "code",
        "outputId": "c159d6d2-73bc-4c1f-de92-918c0b565dba",
        "colab": {
          "base_uri": "https://localhost:8080/",
          "height": 51
        }
      },
      "source": [
        "# Shape of data\n",
        "print(dataset_train.shape)\n",
        "print(dataset_test.shape)"
      ],
      "execution_count": 65,
      "outputs": [
        {
          "output_type": "stream",
          "text": [
            "(21201, 32)\n",
            "(7068, 28)\n"
          ],
          "name": "stdout"
        }
      ]
    },
    {
      "cell_type": "markdown",
      "metadata": {
        "id": "V7wC01SHIphz",
        "colab_type": "text"
      },
      "source": [
        "The combined dataset of train and rider has 21201 record and 32 columns. <br>\n",
        "The combined dataset of test and rider has 7068 record and 28 columns."
      ]
    },
    {
      "cell_type": "markdown",
      "metadata": {
        "id": "zA14Wk-6Iph2",
        "colab_type": "text"
      },
      "source": [
        "##### Checking for missing data"
      ]
    },
    {
      "cell_type": "code",
      "metadata": {
        "id": "dy5AX8iOIph3",
        "colab_type": "code",
        "outputId": "08721ea9-a210-4857-ae00-5ef4e8213da4",
        "colab": {
          "base_uri": "https://localhost:8080/",
          "height": 1000
        }
      },
      "source": [
        "print('Train dataset:\\n\\n',dataset_train.isna().sum(),'\\n')\n",
        "print('Test dataset: \\n\\n',dataset_test.isna().sum())"
      ],
      "execution_count": 66,
      "outputs": [
        {
          "output_type": "stream",
          "text": [
            "Train dataset:\n",
            "\n",
            " User Id                                          0\n",
            "Vehicle Type                                     0\n",
            "Platform Type                                    0\n",
            "Personal or Business                             0\n",
            "Placement - Day of Month                         0\n",
            "Placement - Weekday (Mo = 1)                     0\n",
            "Placement - Time                                 0\n",
            "Confirmation - Day of Month                      0\n",
            "Confirmation - Weekday (Mo = 1)                  0\n",
            "Confirmation - Time                              0\n",
            "Arrival at Pickup - Day of Month                 0\n",
            "Arrival at Pickup - Weekday (Mo = 1)             0\n",
            "Arrival at Pickup - Time                         0\n",
            "Pickup - Day of Month                            0\n",
            "Pickup - Weekday (Mo = 1)                        0\n",
            "Pickup - Time                                    0\n",
            "Arrival at Destination - Day of Month            0\n",
            "Arrival at Destination - Weekday (Mo = 1)        0\n",
            "Arrival at Destination - Time                    0\n",
            "Distance (KM)                                    0\n",
            "Temperature                                   4366\n",
            "Precipitation in millimeters                 20649\n",
            "Pickup Lat                                       0\n",
            "Pickup Long                                      0\n",
            "Destination Lat                                  0\n",
            "Destination Long                                 0\n",
            "Rider Id                                         0\n",
            "Time from Pickup to Arrival                      0\n",
            "No_Of_Orders                                     0\n",
            "Age                                              0\n",
            "Average_Rating                                   0\n",
            "No_of_Ratings                                    0\n",
            "dtype: int64 \n",
            "\n",
            "Test dataset: \n",
            "\n",
            " User Id                                    0\n",
            "Vehicle Type                               0\n",
            "Platform Type                              0\n",
            "Personal or Business                       0\n",
            "Placement - Day of Month                   0\n",
            "Placement - Weekday (Mo = 1)               0\n",
            "Placement - Time                           0\n",
            "Confirmation - Day of Month                0\n",
            "Confirmation - Weekday (Mo = 1)            0\n",
            "Confirmation - Time                        0\n",
            "Arrival at Pickup - Day of Month           0\n",
            "Arrival at Pickup - Weekday (Mo = 1)       0\n",
            "Arrival at Pickup - Time                   0\n",
            "Pickup - Day of Month                      0\n",
            "Pickup - Weekday (Mo = 1)                  0\n",
            "Pickup - Time                              0\n",
            "Distance (KM)                              0\n",
            "Temperature                             1437\n",
            "Precipitation in millimeters            6869\n",
            "Pickup Lat                                 0\n",
            "Pickup Long                                0\n",
            "Destination Lat                            0\n",
            "Destination Long                           0\n",
            "Rider Id                                   0\n",
            "No_Of_Orders                               0\n",
            "Age                                        0\n",
            "Average_Rating                             0\n",
            "No_of_Ratings                              0\n",
            "dtype: int64\n"
          ],
          "name": "stdout"
        }
      ]
    },
    {
      "cell_type": "markdown",
      "metadata": {
        "id": "67f1qc1FIph8",
        "colab_type": "text"
      },
      "source": [
        "Temperature and `Precipitation in millimeters` columns have missing values."
      ]
    },
    {
      "cell_type": "code",
      "metadata": {
        "id": "0JdiMAbbIph9",
        "colab_type": "code",
        "outputId": "8725bf59-5ac6-4589-efbb-91e77ba9d56f",
        "colab": {
          "base_uri": "https://localhost:8080/",
          "height": 85
        }
      },
      "source": [
        "s_train = 'Train missing values :'\n",
        "s_test = 'Test missing values  :'\n",
        "\n",
        "print(\"Percentage of missing values 'Precipitation in millimeters'. \\n\")\n",
        "print(s_train,\n",
        "      dataset_train['Precipitation in millimeters'].isnull().mean().round(5)*100,'%')\n",
        "print(s_test,\n",
        "      dataset_test['Precipitation in millimeters'].isnull().mean().round(5)*100,'%')"
      ],
      "execution_count": 67,
      "outputs": [
        {
          "output_type": "stream",
          "text": [
            "Percentage of missing values 'Precipitation in millimeters'. \n",
            "\n",
            "Train missing values : 97.396 %\n",
            "Test missing values  : 97.184 %\n"
          ],
          "name": "stdout"
        }
      ]
    },
    {
      "cell_type": "markdown",
      "metadata": {
        "id": "bamrUW8GIpiB",
        "colab_type": "text"
      },
      "source": [
        "Removing the `Precipitation in millimeters` column is the best option since the column is almost empty."
      ]
    },
    {
      "cell_type": "code",
      "metadata": {
        "id": "YFqOrINuIpiC",
        "colab_type": "code",
        "outputId": "d61b93a6-b08e-4dfd-d132-17968038be8c",
        "colab": {
          "base_uri": "https://localhost:8080/",
          "height": 85
        }
      },
      "source": [
        "print(\"Percentage of missing values for 'Temperature' \\n\")\n",
        "print(s_train,dataset_train['Temperature'].isnull().mean().round(5)*100,'%')\n",
        "print(s_test,dataset_test['Temperature'].isnull().mean().round(5)*100,'%')"
      ],
      "execution_count": 68,
      "outputs": [
        {
          "output_type": "stream",
          "text": [
            "Percentage of missing values for 'Temperature' \n",
            "\n",
            "Train missing values : 20.593 %\n",
            "Test missing values  : 20.331 %\n"
          ],
          "name": "stdout"
        }
      ]
    },
    {
      "cell_type": "markdown",
      "metadata": {
        "id": "Euk7SuqVIpiH",
        "colab_type": "text"
      },
      "source": [
        "The missing rows in this column can be filled using a statistic or metric."
      ]
    },
    {
      "cell_type": "markdown",
      "metadata": {
        "id": "MP1I8tD3IpiI",
        "colab_type": "text"
      },
      "source": [
        "##### Summary Statistics"
      ]
    },
    {
      "cell_type": "code",
      "metadata": {
        "id": "ZBQZgVeWIpiJ",
        "colab_type": "code",
        "outputId": "ea01944c-d61c-499a-e26d-3f6925a70634",
        "colab": {
          "base_uri": "https://localhost:8080/",
          "height": 830
        }
      },
      "source": [
        "dataset_train.describe().T"
      ],
      "execution_count": 69,
      "outputs": [
        {
          "output_type": "execute_result",
          "data": {
            "text/html": [
              "<div>\n",
              "<style scoped>\n",
              "    .dataframe tbody tr th:only-of-type {\n",
              "        vertical-align: middle;\n",
              "    }\n",
              "\n",
              "    .dataframe tbody tr th {\n",
              "        vertical-align: top;\n",
              "    }\n",
              "\n",
              "    .dataframe thead th {\n",
              "        text-align: right;\n",
              "    }\n",
              "</style>\n",
              "<table border=\"1\" class=\"dataframe\">\n",
              "  <thead>\n",
              "    <tr style=\"text-align: right;\">\n",
              "      <th></th>\n",
              "      <th>count</th>\n",
              "      <th>mean</th>\n",
              "      <th>std</th>\n",
              "      <th>min</th>\n",
              "      <th>25%</th>\n",
              "      <th>50%</th>\n",
              "      <th>75%</th>\n",
              "      <th>max</th>\n",
              "    </tr>\n",
              "  </thead>\n",
              "  <tbody>\n",
              "    <tr>\n",
              "      <th>Platform Type</th>\n",
              "      <td>21201.0</td>\n",
              "      <td>2.752182</td>\n",
              "      <td>0.625178</td>\n",
              "      <td>1.000000</td>\n",
              "      <td>3.000000</td>\n",
              "      <td>3.000000</td>\n",
              "      <td>3.000000</td>\n",
              "      <td>4.000000</td>\n",
              "    </tr>\n",
              "    <tr>\n",
              "      <th>Placement - Day of Month</th>\n",
              "      <td>21201.0</td>\n",
              "      <td>15.653696</td>\n",
              "      <td>8.798916</td>\n",
              "      <td>1.000000</td>\n",
              "      <td>8.000000</td>\n",
              "      <td>15.000000</td>\n",
              "      <td>23.000000</td>\n",
              "      <td>31.000000</td>\n",
              "    </tr>\n",
              "    <tr>\n",
              "      <th>Placement - Weekday (Mo = 1)</th>\n",
              "      <td>21201.0</td>\n",
              "      <td>3.240083</td>\n",
              "      <td>1.567295</td>\n",
              "      <td>1.000000</td>\n",
              "      <td>2.000000</td>\n",
              "      <td>3.000000</td>\n",
              "      <td>5.000000</td>\n",
              "      <td>7.000000</td>\n",
              "    </tr>\n",
              "    <tr>\n",
              "      <th>Confirmation - Day of Month</th>\n",
              "      <td>21201.0</td>\n",
              "      <td>15.653837</td>\n",
              "      <td>8.798886</td>\n",
              "      <td>1.000000</td>\n",
              "      <td>8.000000</td>\n",
              "      <td>15.000000</td>\n",
              "      <td>23.000000</td>\n",
              "      <td>31.000000</td>\n",
              "    </tr>\n",
              "    <tr>\n",
              "      <th>Confirmation - Weekday (Mo = 1)</th>\n",
              "      <td>21201.0</td>\n",
              "      <td>3.240225</td>\n",
              "      <td>1.567228</td>\n",
              "      <td>1.000000</td>\n",
              "      <td>2.000000</td>\n",
              "      <td>3.000000</td>\n",
              "      <td>5.000000</td>\n",
              "      <td>7.000000</td>\n",
              "    </tr>\n",
              "    <tr>\n",
              "      <th>Arrival at Pickup - Day of Month</th>\n",
              "      <td>21201.0</td>\n",
              "      <td>15.653837</td>\n",
              "      <td>8.798886</td>\n",
              "      <td>1.000000</td>\n",
              "      <td>8.000000</td>\n",
              "      <td>15.000000</td>\n",
              "      <td>23.000000</td>\n",
              "      <td>31.000000</td>\n",
              "    </tr>\n",
              "    <tr>\n",
              "      <th>Arrival at Pickup - Weekday (Mo = 1)</th>\n",
              "      <td>21201.0</td>\n",
              "      <td>3.240225</td>\n",
              "      <td>1.567228</td>\n",
              "      <td>1.000000</td>\n",
              "      <td>2.000000</td>\n",
              "      <td>3.000000</td>\n",
              "      <td>5.000000</td>\n",
              "      <td>7.000000</td>\n",
              "    </tr>\n",
              "    <tr>\n",
              "      <th>Pickup - Day of Month</th>\n",
              "      <td>21201.0</td>\n",
              "      <td>15.653837</td>\n",
              "      <td>8.798886</td>\n",
              "      <td>1.000000</td>\n",
              "      <td>8.000000</td>\n",
              "      <td>15.000000</td>\n",
              "      <td>23.000000</td>\n",
              "      <td>31.000000</td>\n",
              "    </tr>\n",
              "    <tr>\n",
              "      <th>Pickup - Weekday (Mo = 1)</th>\n",
              "      <td>21201.0</td>\n",
              "      <td>3.240225</td>\n",
              "      <td>1.567228</td>\n",
              "      <td>1.000000</td>\n",
              "      <td>2.000000</td>\n",
              "      <td>3.000000</td>\n",
              "      <td>5.000000</td>\n",
              "      <td>7.000000</td>\n",
              "    </tr>\n",
              "    <tr>\n",
              "      <th>Arrival at Destination - Day of Month</th>\n",
              "      <td>21201.0</td>\n",
              "      <td>15.653837</td>\n",
              "      <td>8.798886</td>\n",
              "      <td>1.000000</td>\n",
              "      <td>8.000000</td>\n",
              "      <td>15.000000</td>\n",
              "      <td>23.000000</td>\n",
              "      <td>31.000000</td>\n",
              "    </tr>\n",
              "    <tr>\n",
              "      <th>Arrival at Destination - Weekday (Mo = 1)</th>\n",
              "      <td>21201.0</td>\n",
              "      <td>3.240225</td>\n",
              "      <td>1.567228</td>\n",
              "      <td>1.000000</td>\n",
              "      <td>2.000000</td>\n",
              "      <td>3.000000</td>\n",
              "      <td>5.000000</td>\n",
              "      <td>7.000000</td>\n",
              "    </tr>\n",
              "    <tr>\n",
              "      <th>Distance (KM)</th>\n",
              "      <td>21201.0</td>\n",
              "      <td>9.506533</td>\n",
              "      <td>5.668963</td>\n",
              "      <td>1.000000</td>\n",
              "      <td>5.000000</td>\n",
              "      <td>8.000000</td>\n",
              "      <td>13.000000</td>\n",
              "      <td>49.000000</td>\n",
              "    </tr>\n",
              "    <tr>\n",
              "      <th>Temperature</th>\n",
              "      <td>16835.0</td>\n",
              "      <td>23.258889</td>\n",
              "      <td>3.615768</td>\n",
              "      <td>11.200000</td>\n",
              "      <td>20.600000</td>\n",
              "      <td>23.500000</td>\n",
              "      <td>26.000000</td>\n",
              "      <td>32.100000</td>\n",
              "    </tr>\n",
              "    <tr>\n",
              "      <th>Precipitation in millimeters</th>\n",
              "      <td>552.0</td>\n",
              "      <td>7.905797</td>\n",
              "      <td>17.089971</td>\n",
              "      <td>0.100000</td>\n",
              "      <td>1.075000</td>\n",
              "      <td>2.900000</td>\n",
              "      <td>4.900000</td>\n",
              "      <td>99.100000</td>\n",
              "    </tr>\n",
              "    <tr>\n",
              "      <th>Pickup Lat</th>\n",
              "      <td>21201.0</td>\n",
              "      <td>-1.281470</td>\n",
              "      <td>0.030507</td>\n",
              "      <td>-1.438302</td>\n",
              "      <td>-1.300921</td>\n",
              "      <td>-1.279395</td>\n",
              "      <td>-1.257147</td>\n",
              "      <td>-1.147170</td>\n",
              "    </tr>\n",
              "    <tr>\n",
              "      <th>Pickup Long</th>\n",
              "      <td>21201.0</td>\n",
              "      <td>36.811264</td>\n",
              "      <td>0.037473</td>\n",
              "      <td>36.653621</td>\n",
              "      <td>36.784605</td>\n",
              "      <td>36.807040</td>\n",
              "      <td>36.829741</td>\n",
              "      <td>36.991046</td>\n",
              "    </tr>\n",
              "    <tr>\n",
              "      <th>Destination Lat</th>\n",
              "      <td>21201.0</td>\n",
              "      <td>-1.282581</td>\n",
              "      <td>0.034824</td>\n",
              "      <td>-1.430298</td>\n",
              "      <td>-1.301201</td>\n",
              "      <td>-1.284382</td>\n",
              "      <td>-1.261177</td>\n",
              "      <td>-1.030225</td>\n",
              "    </tr>\n",
              "    <tr>\n",
              "      <th>Destination Long</th>\n",
              "      <td>21201.0</td>\n",
              "      <td>36.811220</td>\n",
              "      <td>0.044721</td>\n",
              "      <td>36.606594</td>\n",
              "      <td>36.785661</td>\n",
              "      <td>36.808002</td>\n",
              "      <td>36.829477</td>\n",
              "      <td>37.016779</td>\n",
              "    </tr>\n",
              "    <tr>\n",
              "      <th>Time from Pickup to Arrival</th>\n",
              "      <td>21201.0</td>\n",
              "      <td>1556.920947</td>\n",
              "      <td>987.270788</td>\n",
              "      <td>1.000000</td>\n",
              "      <td>882.000000</td>\n",
              "      <td>1369.000000</td>\n",
              "      <td>2040.000000</td>\n",
              "      <td>7883.000000</td>\n",
              "    </tr>\n",
              "    <tr>\n",
              "      <th>No_Of_Orders</th>\n",
              "      <td>21201.0</td>\n",
              "      <td>1692.423706</td>\n",
              "      <td>1574.308302</td>\n",
              "      <td>2.000000</td>\n",
              "      <td>557.000000</td>\n",
              "      <td>1212.000000</td>\n",
              "      <td>2311.000000</td>\n",
              "      <td>9756.000000</td>\n",
              "    </tr>\n",
              "    <tr>\n",
              "      <th>Age</th>\n",
              "      <td>21201.0</td>\n",
              "      <td>984.742842</td>\n",
              "      <td>646.652835</td>\n",
              "      <td>96.000000</td>\n",
              "      <td>495.000000</td>\n",
              "      <td>872.000000</td>\n",
              "      <td>1236.000000</td>\n",
              "      <td>3764.000000</td>\n",
              "    </tr>\n",
              "    <tr>\n",
              "      <th>Average_Rating</th>\n",
              "      <td>21201.0</td>\n",
              "      <td>13.882520</td>\n",
              "      <td>0.916071</td>\n",
              "      <td>0.000000</td>\n",
              "      <td>13.600000</td>\n",
              "      <td>14.000000</td>\n",
              "      <td>14.300000</td>\n",
              "      <td>15.200000</td>\n",
              "    </tr>\n",
              "    <tr>\n",
              "      <th>No_of_Ratings</th>\n",
              "      <td>21201.0</td>\n",
              "      <td>341.067119</td>\n",
              "      <td>402.867746</td>\n",
              "      <td>0.000000</td>\n",
              "      <td>61.000000</td>\n",
              "      <td>161.000000</td>\n",
              "      <td>495.000000</td>\n",
              "      <td>2298.000000</td>\n",
              "    </tr>\n",
              "  </tbody>\n",
              "</table>\n",
              "</div>"
            ],
            "text/plain": [
              "                                             count  ...          max\n",
              "Platform Type                              21201.0  ...     4.000000\n",
              "Placement - Day of Month                   21201.0  ...    31.000000\n",
              "Placement - Weekday (Mo = 1)               21201.0  ...     7.000000\n",
              "Confirmation - Day of Month                21201.0  ...    31.000000\n",
              "Confirmation - Weekday (Mo = 1)            21201.0  ...     7.000000\n",
              "Arrival at Pickup - Day of Month           21201.0  ...    31.000000\n",
              "Arrival at Pickup - Weekday (Mo = 1)       21201.0  ...     7.000000\n",
              "Pickup - Day of Month                      21201.0  ...    31.000000\n",
              "Pickup - Weekday (Mo = 1)                  21201.0  ...     7.000000\n",
              "Arrival at Destination - Day of Month      21201.0  ...    31.000000\n",
              "Arrival at Destination - Weekday (Mo = 1)  21201.0  ...     7.000000\n",
              "Distance (KM)                              21201.0  ...    49.000000\n",
              "Temperature                                16835.0  ...    32.100000\n",
              "Precipitation in millimeters                 552.0  ...    99.100000\n",
              "Pickup Lat                                 21201.0  ...    -1.147170\n",
              "Pickup Long                                21201.0  ...    36.991046\n",
              "Destination Lat                            21201.0  ...    -1.030225\n",
              "Destination Long                           21201.0  ...    37.016779\n",
              "Time from Pickup to Arrival                21201.0  ...  7883.000000\n",
              "No_Of_Orders                               21201.0  ...  9756.000000\n",
              "Age                                        21201.0  ...  3764.000000\n",
              "Average_Rating                             21201.0  ...    15.200000\n",
              "No_of_Ratings                              21201.0  ...  2298.000000\n",
              "\n",
              "[23 rows x 8 columns]"
            ]
          },
          "metadata": {
            "tags": []
          },
          "execution_count": 69
        }
      ]
    },
    {
      "cell_type": "code",
      "metadata": {
        "id": "_7zo9hygIpiN",
        "colab_type": "code",
        "outputId": "8c2b64d1-f36f-493f-f13a-10584f83f247",
        "colab": {
          "base_uri": "https://localhost:8080/",
          "height": 686
        }
      },
      "source": [
        "dataset_test.describe().T"
      ],
      "execution_count": 70,
      "outputs": [
        {
          "output_type": "execute_result",
          "data": {
            "text/html": [
              "<div>\n",
              "<style scoped>\n",
              "    .dataframe tbody tr th:only-of-type {\n",
              "        vertical-align: middle;\n",
              "    }\n",
              "\n",
              "    .dataframe tbody tr th {\n",
              "        vertical-align: top;\n",
              "    }\n",
              "\n",
              "    .dataframe thead th {\n",
              "        text-align: right;\n",
              "    }\n",
              "</style>\n",
              "<table border=\"1\" class=\"dataframe\">\n",
              "  <thead>\n",
              "    <tr style=\"text-align: right;\">\n",
              "      <th></th>\n",
              "      <th>count</th>\n",
              "      <th>mean</th>\n",
              "      <th>std</th>\n",
              "      <th>min</th>\n",
              "      <th>25%</th>\n",
              "      <th>50%</th>\n",
              "      <th>75%</th>\n",
              "      <th>max</th>\n",
              "    </tr>\n",
              "  </thead>\n",
              "  <tbody>\n",
              "    <tr>\n",
              "      <th>Platform Type</th>\n",
              "      <td>7068.0</td>\n",
              "      <td>2.752122</td>\n",
              "      <td>0.624000</td>\n",
              "      <td>1.000000</td>\n",
              "      <td>3.000000</td>\n",
              "      <td>3.000000</td>\n",
              "      <td>3.000000</td>\n",
              "      <td>4.000000</td>\n",
              "    </tr>\n",
              "    <tr>\n",
              "      <th>Placement - Day of Month</th>\n",
              "      <td>7068.0</td>\n",
              "      <td>15.621817</td>\n",
              "      <td>8.776650</td>\n",
              "      <td>1.000000</td>\n",
              "      <td>8.000000</td>\n",
              "      <td>15.000000</td>\n",
              "      <td>23.000000</td>\n",
              "      <td>31.000000</td>\n",
              "    </tr>\n",
              "    <tr>\n",
              "      <th>Placement - Weekday (Mo = 1)</th>\n",
              "      <td>7068.0</td>\n",
              "      <td>3.249859</td>\n",
              "      <td>1.580926</td>\n",
              "      <td>1.000000</td>\n",
              "      <td>2.000000</td>\n",
              "      <td>3.000000</td>\n",
              "      <td>5.000000</td>\n",
              "      <td>7.000000</td>\n",
              "    </tr>\n",
              "    <tr>\n",
              "      <th>Confirmation - Day of Month</th>\n",
              "      <td>7068.0</td>\n",
              "      <td>15.621817</td>\n",
              "      <td>8.776650</td>\n",
              "      <td>1.000000</td>\n",
              "      <td>8.000000</td>\n",
              "      <td>15.000000</td>\n",
              "      <td>23.000000</td>\n",
              "      <td>31.000000</td>\n",
              "    </tr>\n",
              "    <tr>\n",
              "      <th>Confirmation - Weekday (Mo = 1)</th>\n",
              "      <td>7068.0</td>\n",
              "      <td>3.249859</td>\n",
              "      <td>1.580926</td>\n",
              "      <td>1.000000</td>\n",
              "      <td>2.000000</td>\n",
              "      <td>3.000000</td>\n",
              "      <td>5.000000</td>\n",
              "      <td>7.000000</td>\n",
              "    </tr>\n",
              "    <tr>\n",
              "      <th>Arrival at Pickup - Day of Month</th>\n",
              "      <td>7068.0</td>\n",
              "      <td>15.621817</td>\n",
              "      <td>8.776650</td>\n",
              "      <td>1.000000</td>\n",
              "      <td>8.000000</td>\n",
              "      <td>15.000000</td>\n",
              "      <td>23.000000</td>\n",
              "      <td>31.000000</td>\n",
              "    </tr>\n",
              "    <tr>\n",
              "      <th>Arrival at Pickup - Weekday (Mo = 1)</th>\n",
              "      <td>7068.0</td>\n",
              "      <td>3.249859</td>\n",
              "      <td>1.580926</td>\n",
              "      <td>1.000000</td>\n",
              "      <td>2.000000</td>\n",
              "      <td>3.000000</td>\n",
              "      <td>5.000000</td>\n",
              "      <td>7.000000</td>\n",
              "    </tr>\n",
              "    <tr>\n",
              "      <th>Pickup - Day of Month</th>\n",
              "      <td>7068.0</td>\n",
              "      <td>15.621817</td>\n",
              "      <td>8.776650</td>\n",
              "      <td>1.000000</td>\n",
              "      <td>8.000000</td>\n",
              "      <td>15.000000</td>\n",
              "      <td>23.000000</td>\n",
              "      <td>31.000000</td>\n",
              "    </tr>\n",
              "    <tr>\n",
              "      <th>Pickup - Weekday (Mo = 1)</th>\n",
              "      <td>7068.0</td>\n",
              "      <td>3.249859</td>\n",
              "      <td>1.580926</td>\n",
              "      <td>1.000000</td>\n",
              "      <td>2.000000</td>\n",
              "      <td>3.000000</td>\n",
              "      <td>5.000000</td>\n",
              "      <td>7.000000</td>\n",
              "    </tr>\n",
              "    <tr>\n",
              "      <th>Distance (KM)</th>\n",
              "      <td>7068.0</td>\n",
              "      <td>9.458970</td>\n",
              "      <td>5.575689</td>\n",
              "      <td>1.000000</td>\n",
              "      <td>5.000000</td>\n",
              "      <td>8.000000</td>\n",
              "      <td>13.000000</td>\n",
              "      <td>47.000000</td>\n",
              "    </tr>\n",
              "    <tr>\n",
              "      <th>Temperature</th>\n",
              "      <td>5631.0</td>\n",
              "      <td>23.246120</td>\n",
              "      <td>3.591161</td>\n",
              "      <td>13.200000</td>\n",
              "      <td>20.600000</td>\n",
              "      <td>23.400000</td>\n",
              "      <td>25.900000</td>\n",
              "      <td>32.100000</td>\n",
              "    </tr>\n",
              "    <tr>\n",
              "      <th>Precipitation in millimeters</th>\n",
              "      <td>199.0</td>\n",
              "      <td>6.651759</td>\n",
              "      <td>14.085439</td>\n",
              "      <td>0.100000</td>\n",
              "      <td>1.100000</td>\n",
              "      <td>2.900000</td>\n",
              "      <td>4.950000</td>\n",
              "      <td>99.100000</td>\n",
              "    </tr>\n",
              "    <tr>\n",
              "      <th>Pickup Lat</th>\n",
              "      <td>7068.0</td>\n",
              "      <td>-1.282043</td>\n",
              "      <td>0.030044</td>\n",
              "      <td>-1.433512</td>\n",
              "      <td>-1.301201</td>\n",
              "      <td>-1.281301</td>\n",
              "      <td>-1.257274</td>\n",
              "      <td>-1.148352</td>\n",
              "    </tr>\n",
              "    <tr>\n",
              "      <th>Pickup Long</th>\n",
              "      <td>7068.0</td>\n",
              "      <td>36.811148</td>\n",
              "      <td>0.037962</td>\n",
              "      <td>36.653828</td>\n",
              "      <td>36.784605</td>\n",
              "      <td>36.807219</td>\n",
              "      <td>36.829716</td>\n",
              "      <td>36.991046</td>\n",
              "    </tr>\n",
              "    <tr>\n",
              "      <th>Destination Lat</th>\n",
              "      <td>7068.0</td>\n",
              "      <td>-1.282255</td>\n",
              "      <td>0.034236</td>\n",
              "      <td>-1.422652</td>\n",
              "      <td>-1.300921</td>\n",
              "      <td>-1.283219</td>\n",
              "      <td>-1.261256</td>\n",
              "      <td>-1.030225</td>\n",
              "    </tr>\n",
              "    <tr>\n",
              "      <th>Destination Long</th>\n",
              "      <td>7068.0</td>\n",
              "      <td>36.811326</td>\n",
              "      <td>0.043507</td>\n",
              "      <td>36.639195</td>\n",
              "      <td>36.786546</td>\n",
              "      <td>36.807927</td>\n",
              "      <td>36.828195</td>\n",
              "      <td>37.018958</td>\n",
              "    </tr>\n",
              "    <tr>\n",
              "      <th>No_Of_Orders</th>\n",
              "      <td>7068.0</td>\n",
              "      <td>1717.032258</td>\n",
              "      <td>1628.842795</td>\n",
              "      <td>3.000000</td>\n",
              "      <td>534.000000</td>\n",
              "      <td>1209.000000</td>\n",
              "      <td>2311.000000</td>\n",
              "      <td>9756.000000</td>\n",
              "    </tr>\n",
              "    <tr>\n",
              "      <th>Age</th>\n",
              "      <td>7068.0</td>\n",
              "      <td>998.400113</td>\n",
              "      <td>672.195000</td>\n",
              "      <td>99.000000</td>\n",
              "      <td>494.000000</td>\n",
              "      <td>872.000000</td>\n",
              "      <td>1239.000000</td>\n",
              "      <td>3764.000000</td>\n",
              "    </tr>\n",
              "    <tr>\n",
              "      <th>Average_Rating</th>\n",
              "      <td>7068.0</td>\n",
              "      <td>13.883178</td>\n",
              "      <td>0.846333</td>\n",
              "      <td>0.000000</td>\n",
              "      <td>13.600000</td>\n",
              "      <td>14.000000</td>\n",
              "      <td>14.300000</td>\n",
              "      <td>15.200000</td>\n",
              "    </tr>\n",
              "    <tr>\n",
              "      <th>No_of_Ratings</th>\n",
              "      <td>7068.0</td>\n",
              "      <td>342.815789</td>\n",
              "      <td>410.064334</td>\n",
              "      <td>0.000000</td>\n",
              "      <td>60.000000</td>\n",
              "      <td>157.000000</td>\n",
              "      <td>491.000000</td>\n",
              "      <td>2298.000000</td>\n",
              "    </tr>\n",
              "  </tbody>\n",
              "</table>\n",
              "</div>"
            ],
            "text/plain": [
              "                                       count  ...          max\n",
              "Platform Type                         7068.0  ...     4.000000\n",
              "Placement - Day of Month              7068.0  ...    31.000000\n",
              "Placement - Weekday (Mo = 1)          7068.0  ...     7.000000\n",
              "Confirmation - Day of Month           7068.0  ...    31.000000\n",
              "Confirmation - Weekday (Mo = 1)       7068.0  ...     7.000000\n",
              "Arrival at Pickup - Day of Month      7068.0  ...    31.000000\n",
              "Arrival at Pickup - Weekday (Mo = 1)  7068.0  ...     7.000000\n",
              "Pickup - Day of Month                 7068.0  ...    31.000000\n",
              "Pickup - Weekday (Mo = 1)             7068.0  ...     7.000000\n",
              "Distance (KM)                         7068.0  ...    47.000000\n",
              "Temperature                           5631.0  ...    32.100000\n",
              "Precipitation in millimeters           199.0  ...    99.100000\n",
              "Pickup Lat                            7068.0  ...    -1.148352\n",
              "Pickup Long                           7068.0  ...    36.991046\n",
              "Destination Lat                       7068.0  ...    -1.030225\n",
              "Destination Long                      7068.0  ...    37.018958\n",
              "No_Of_Orders                          7068.0  ...  9756.000000\n",
              "Age                                   7068.0  ...  3764.000000\n",
              "Average_Rating                        7068.0  ...    15.200000\n",
              "No_of_Ratings                         7068.0  ...  2298.000000\n",
              "\n",
              "[20 rows x 8 columns]"
            ]
          },
          "metadata": {
            "tags": []
          },
          "execution_count": 70
        }
      ]
    },
    {
      "cell_type": "markdown",
      "metadata": {
        "id": "CrMw2HEfIpiS",
        "colab_type": "text"
      },
      "source": [
        "On both the training and test sets we observe that the mean is a bit higher that the median and we also have a huge difference between the 75th percentile and the max which tells us that we might be having outliers in our data most noticably `No_Of_Orders` and `No_of_ratings`."
      ]
    },
    {
      "cell_type": "markdown",
      "metadata": {
        "id": "qU57rFIEIpiT",
        "colab_type": "text"
      },
      "source": [
        "##### Correlation using a Heatmap"
      ]
    },
    {
      "cell_type": "markdown",
      "metadata": {
        "id": "xtVgsCHvIpiU",
        "colab_type": "text"
      },
      "source": [
        "This plot is shows the correlation between columns have numeric observations in the training dataset."
      ]
    },
    {
      "cell_type": "code",
      "metadata": {
        "id": "Gb6eMQw7IpiX",
        "colab_type": "code",
        "outputId": "94fd8c21-5cdf-4133-9a5b-d1f610df7c3d",
        "colab": {
          "base_uri": "https://localhost:8080/",
          "height": 841
        }
      },
      "source": [
        "plt.figure(figsize=(20,15))\n",
        "sns.heatmap(dataset_train.corr(),annot=True) \n",
        "plt.title('Correlation Heatmap',fontsize=25)"
      ],
      "execution_count": 71,
      "outputs": [
        {
          "output_type": "execute_result",
          "data": {
            "text/plain": [
              "Text(0.5, 1.0, 'Correlation Heatmap')"
            ]
          },
          "metadata": {
            "tags": []
          },
          "execution_count": 71
        },
        {
          "output_type": "display_data",
          "data": {
            "image/png": "[encoded data removed]",
            "text/plain": [
              "<Figure size 1440x1080 with 2 Axes>"
            ]
          },
          "metadata": {
            "tags": [],
            "needs_background": "light"
          }
        }
      ]
    },
    {
      "cell_type": "markdown",
      "metadata": {
        "id": "AjiGYkBEIpic",
        "colab_type": "text"
      },
      "source": [
        "Measures of the strength of correlation\n",
        "- 0.00-0.19    “Very weak”\n",
        "- 0.20-0.39    “Weak”\n",
        "- 0.40-0.59    “Moderate”\n",
        "- 0.60-0.79    “Strong”\n",
        "- 0.80-1.0     “Very strong”\n",
        "\n",
        "From the heatmap we see that so some columns have the same data points, these are represented as columns having correlations of one in the top left corner.\n",
        "\n",
        "Correlations above 40% in both directions\n",
        "- `Distance (KM)` v `Time from Pickup to Arrival`   $\\approx$ 0.58\n",
        "- `No_Of_Orders` v `Age`                            $\\approx$ 0.68\n",
        "- `No_Of_Orders` v `No_of_Ratings`                  $\\approx$ 0.86\n",
        "- `No_of_Ratings` v `Age`                           $\\approx$ 0.65\n",
        "\n",
        "We observe that `Disatnce (KM)` has the highest correlation to `Time from Pickup to Arrival`. This means that `Distance (KM)` is a strong preditor to the response variable and is our main feature for our model.\n",
        "\n",
        "All other columns listed abve have moderate to strong correlations between them,even though there multicollinearity we are not going to remove them since they have week correlations and to `Time from Pickup to Arrival`."
      ]
    },
    {
      "cell_type": "markdown",
      "metadata": {
        "id": "B0wgT06MIpid",
        "colab_type": "text"
      },
      "source": [
        "### Imputing Missing data"
      ]
    },
    {
      "cell_type": "markdown",
      "metadata": {
        "id": "JWK5rQTyIpid",
        "colab_type": "text"
      },
      "source": [
        "This function is used to fill missing data points in the `Temperature` column using either mean or median"
      ]
    },
    {
      "cell_type": "code",
      "metadata": {
        "id": "h6L6nbY1Ipie",
        "colab_type": "code",
        "colab": {}
      },
      "source": [
        "def Temp_imputer(df,fill_type=1):\n",
        "    \n",
        "    '''\n",
        "    **Temp_imputer**\n",
        "    \n",
        "    Takes in a dataframe and fill_type as an integer and fills null values\n",
        "    in the Temperature column.\n",
        "\n",
        "    - Fill type 1 - fill with mean value of all data points.\n",
        "    - Fill type 2 - fill with coresponding mean of Day of Month and Day of Week.\n",
        "    - Fill type 3 - fill with median value of all data points.\n",
        "\n",
        "    default is fill type 1\n",
        "    '''\n",
        "    \n",
        "    df_copy = df.copy()\n",
        "    if fill_type == 1:\n",
        "        mean_df_1 = round(df_copy['Temperature'].mean(),1)\n",
        "        df_copy['Temperature'].fillna(value=mean_df_1,inplace=True)\n",
        "        return df_copy\n",
        "    \n",
        "    elif fill_type == 2:\n",
        "        mean_ind = dict(round(df_copy.groupby(\n",
        "            ['Placement - Day of Month',\n",
        "             'Placement - Weekday (Mo = 1)'])['Temperature'].transform(\n",
        "                 'mean'),1))\n",
        "        df_copy['Temperature'].fillna(value=mean_ind,axis=0,inplace=True)\n",
        "        \n",
        "        mean_df_2 = round(df_copy['Temperature'].mean(),1)\n",
        "        \n",
        "        if df_copy['Temperature'].isna().sum() > 0:\n",
        "            df_copy['Temperature'].fillna(value=mean_df_2,inplace=True)\n",
        "            return df_copy\n",
        "        else:\n",
        "            return df_copy\n",
        "        \n",
        "    elif fill_type == 3:\n",
        "        median_df = round(df_copy['Temperature'].median(),1)\n",
        "        df_copy['Temperature'].fillna(value=median_df,inplace=True)\n",
        "        return df_copy\n",
        "    \n",
        "    else:\n",
        "        return df_copy\n",
        "    \n",
        "    return df_copy\n"
      ],
      "execution_count": 0,
      "outputs": []
    },
    {
      "cell_type": "code",
      "metadata": {
        "id": "xC4e3d5IOINJ",
        "colab_type": "code",
        "outputId": "35f73857-60f8-45c0-9be6-1dea27a9811e",
        "colab": {
          "base_uri": "https://localhost:8080/",
          "height": 351
        }
      },
      "source": [
        "fig, (ax1, ax2, ax3) = plt.subplots(ncols=3, figsize=(15, 5),sharey=True)\n",
        "sns.distplot(\n",
        "    Temp_imputer(dataset_train,1)['Temperature'],bins=10,color='navy', ax= ax1)\n",
        "sns.distplot(\n",
        "    Temp_imputer(dataset_train,2)['Temperature'],color='blue',bins=10, ax=ax2)\n",
        "sns.distplot(\n",
        "    Temp_imputer(dataset_train,3)['Temperature'],color='darkslateblue',bins=10,\n",
        "                    ax=ax3)\n"
      ],
      "execution_count": 73,
      "outputs": [
        {
          "output_type": "execute_result",
          "data": {
            "text/plain": [
              "<matplotlib.axes._subplots.AxesSubplot at 0x7fbceb4d89e8>"
            ]
          },
          "metadata": {
            "tags": []
          },
          "execution_count": 73
        },
        {
          "output_type": "display_data",
          "data": {
            "image/png": "[encoded data removed]",
            "text/plain": [
              "<Figure size 1080x360 with 3 Axes>"
            ]
          },
          "metadata": {
            "tags": [],
            "needs_background": "light"
          }
        }
      ]
    },
    {
      "cell_type": "markdown",
      "metadata": {
        "id": "N75udpLqZGvv",
        "colab_type": "text"
      },
      "source": [
        "**The three histograms above show different fillings of null in `Temperature`.**\n",
        "\n",
        "\n",
        "*   The first gragh shows filling by mean of the observations.\n",
        "*   The middle gragh shows filling by mean corresponding to day of month and weekday.\n",
        "\n",
        "*   The last one shows filling by median of the observations.\n",
        "\n",
        "From this we easily see that filling used in the middle graph is better based on the fact that the resulting data firly follows a normal distribution and is evenly spread. Thus this is the method chosen to fill the missing data in the column.\n",
        "\n",
        "\n",
        "\n",
        "\n",
        "\n"
      ]
    },
    {
      "cell_type": "code",
      "metadata": {
        "id": "_tcWClJ0Ipii",
        "colab_type": "code",
        "colab": {}
      },
      "source": [
        "Train = Temp_imputer(dataset_train,2)"
      ],
      "execution_count": 0,
      "outputs": []
    },
    {
      "cell_type": "code",
      "metadata": {
        "id": "eK0_kvUHIpio",
        "colab_type": "code",
        "outputId": "1f724b76-3388-41ab-efbc-c548b2d56a33",
        "colab": {
          "base_uri": "https://localhost:8080/",
          "height": 578
        }
      },
      "source": [
        "Train.isna().sum()"
      ],
      "execution_count": 75,
      "outputs": [
        {
          "output_type": "execute_result",
          "data": {
            "text/plain": [
              "User Id                                          0\n",
              "Vehicle Type                                     0\n",
              "Platform Type                                    0\n",
              "Personal or Business                             0\n",
              "Placement - Day of Month                         0\n",
              "Placement - Weekday (Mo = 1)                     0\n",
              "Placement - Time                                 0\n",
              "Confirmation - Day of Month                      0\n",
              "Confirmation - Weekday (Mo = 1)                  0\n",
              "Confirmation - Time                              0\n",
              "Arrival at Pickup - Day of Month                 0\n",
              "Arrival at Pickup - Weekday (Mo = 1)             0\n",
              "Arrival at Pickup - Time                         0\n",
              "Pickup - Day of Month                            0\n",
              "Pickup - Weekday (Mo = 1)                        0\n",
              "Pickup - Time                                    0\n",
              "Arrival at Destination - Day of Month            0\n",
              "Arrival at Destination - Weekday (Mo = 1)        0\n",
              "Arrival at Destination - Time                    0\n",
              "Distance (KM)                                    0\n",
              "Temperature                                      0\n",
              "Precipitation in millimeters                 20649\n",
              "Pickup Lat                                       0\n",
              "Pickup Long                                      0\n",
              "Destination Lat                                  0\n",
              "Destination Long                                 0\n",
              "Rider Id                                         0\n",
              "Time from Pickup to Arrival                      0\n",
              "No_Of_Orders                                     0\n",
              "Age                                              0\n",
              "Average_Rating                                   0\n",
              "No_of_Ratings                                    0\n",
              "dtype: int64"
            ]
          },
          "metadata": {
            "tags": []
          },
          "execution_count": 75
        }
      ]
    },
    {
      "cell_type": "code",
      "metadata": {
        "id": "xiHiywsrIpis",
        "colab_type": "code",
        "colab": {}
      },
      "source": [
        "Test = Temp_imputer(dataset_test,2)"
      ],
      "execution_count": 0,
      "outputs": []
    },
    {
      "cell_type": "code",
      "metadata": {
        "id": "7TR2zLEpIpix",
        "colab_type": "code",
        "outputId": "39a71672-f042-4438-8856-f6c630b12432",
        "colab": {
          "base_uri": "https://localhost:8080/",
          "height": 510
        }
      },
      "source": [
        "Test.isna().sum()"
      ],
      "execution_count": 77,
      "outputs": [
        {
          "output_type": "execute_result",
          "data": {
            "text/plain": [
              "User Id                                    0\n",
              "Vehicle Type                               0\n",
              "Platform Type                              0\n",
              "Personal or Business                       0\n",
              "Placement - Day of Month                   0\n",
              "Placement - Weekday (Mo = 1)               0\n",
              "Placement - Time                           0\n",
              "Confirmation - Day of Month                0\n",
              "Confirmation - Weekday (Mo = 1)            0\n",
              "Confirmation - Time                        0\n",
              "Arrival at Pickup - Day of Month           0\n",
              "Arrival at Pickup - Weekday (Mo = 1)       0\n",
              "Arrival at Pickup - Time                   0\n",
              "Pickup - Day of Month                      0\n",
              "Pickup - Weekday (Mo = 1)                  0\n",
              "Pickup - Time                              0\n",
              "Distance (KM)                              0\n",
              "Temperature                                0\n",
              "Precipitation in millimeters            6869\n",
              "Pickup Lat                                 0\n",
              "Pickup Long                                0\n",
              "Destination Lat                            0\n",
              "Destination Long                           0\n",
              "Rider Id                                   0\n",
              "No_Of_Orders                               0\n",
              "Age                                        0\n",
              "Average_Rating                             0\n",
              "No_of_Ratings                              0\n",
              "dtype: int64"
            ]
          },
          "metadata": {
            "tags": []
          },
          "execution_count": 77
        }
      ]
    },
    {
      "cell_type": "markdown",
      "metadata": {
        "id": "YdFrbpQoIpi6",
        "colab_type": "text"
      },
      "source": [
        "### Feature Selection"
      ]
    },
    {
      "cell_type": "markdown",
      "metadata": {
        "id": "qrdmiMstIpi7",
        "colab_type": "text"
      },
      "source": [
        "The features selected to be removed from the datasets are features that have too many missing data points, e.g. 'Temperature', features that are not in the test dataset, e.g. 'Arrival at Destination - Day of Month', and features that were intuitively chosen beacause it was thought that they do not contribute the prediction of time from pickup to delivery."
      ]
    },
    {
      "cell_type": "code",
      "metadata": {
        "id": "NsTaKPubIpi7",
        "colab_type": "code",
        "colab": {}
      },
      "source": [
        "Drop_train = ['User Id','Vehicle Type','Rider Id',\n",
        "              'Precipitation in millimeters',\n",
        "              'Arrival at Destination - Day of Month',\n",
        "              'Arrival at Destination - Weekday (Mo = 1)',\n",
        "              'Arrival at Destination - Time']\n",
        "\n",
        "Drop_test = ['User Id','Vehicle Type','Rider Id',\n",
        "             'Precipitation in millimeters']\n",
        "\n",
        "Train.drop(columns=Drop_train,inplace=True)\n",
        "Test.drop(columns=Drop_test,inplace=True)"
      ],
      "execution_count": 0,
      "outputs": []
    },
    {
      "cell_type": "code",
      "metadata": {
        "id": "UwPRJSUAIpjB",
        "colab_type": "code",
        "outputId": "0f4ab632-80b7-4db6-87a1-c0e275d6e912",
        "colab": {
          "base_uri": "https://localhost:8080/",
          "height": 34
        }
      },
      "source": [
        "Train.shape"
      ],
      "execution_count": 79,
      "outputs": [
        {
          "output_type": "execute_result",
          "data": {
            "text/plain": [
              "(21201, 25)"
            ]
          },
          "metadata": {
            "tags": []
          },
          "execution_count": 79
        }
      ]
    },
    {
      "cell_type": "code",
      "metadata": {
        "id": "DQF3cnoUIpjG",
        "colab_type": "code",
        "outputId": "acccf22d-c137-4b11-f890-bcdbdfcbb557",
        "colab": {
          "base_uri": "https://localhost:8080/",
          "height": 34
        }
      },
      "source": [
        "Test.shape"
      ],
      "execution_count": 80,
      "outputs": [
        {
          "output_type": "execute_result",
          "data": {
            "text/plain": [
              "(7068, 24)"
            ]
          },
          "metadata": {
            "tags": []
          },
          "execution_count": 80
        }
      ]
    },
    {
      "cell_type": "markdown",
      "metadata": {
        "id": "xrAWwE59IpjL",
        "colab_type": "text"
      },
      "source": [
        "### Feature Encoding"
      ]
    },
    {
      "cell_type": "markdown",
      "metadata": {
        "id": "r27cmMZQIpjM",
        "colab_type": "text"
      },
      "source": [
        "##### Label Encoding"
      ]
    },
    {
      "cell_type": "code",
      "metadata": {
        "id": "OuyBxdnzIpjM",
        "colab_type": "code",
        "colab": {}
      },
      "source": [
        "# Instantiate labelencoder object\n",
        "le = LabelEncoder()"
      ],
      "execution_count": 0,
      "outputs": []
    },
    {
      "cell_type": "markdown",
      "metadata": {
        "id": "mSVL3FG3IpjS",
        "colab_type": "text"
      },
      "source": [
        "Separating numeric features and categorical features for encoding."
      ]
    },
    {
      "cell_type": "code",
      "metadata": {
        "id": "_ZwBYcJxIpjS",
        "colab_type": "code",
        "colab": {}
      },
      "source": [
        "# Numeric columns\n",
        "Numeric_Train = Train._get_numeric_data()\n",
        "Numeric_Test = Test._get_numeric_data()\n",
        "\n",
        "# Categorical columns\n",
        "Categorical_Train = Train.select_dtypes(include=['object'])\n",
        "Categorical_Test = Test.select_dtypes(include=['object'])"
      ],
      "execution_count": 0,
      "outputs": []
    },
    {
      "cell_type": "markdown",
      "metadata": {
        "id": "mPyd4qpSIpjX",
        "colab_type": "text"
      },
      "source": [
        "Applying the label encoder on categorical features."
      ]
    },
    {
      "cell_type": "code",
      "metadata": {
        "id": "YGDBHeO0Ipja",
        "colab_type": "code",
        "colab": {}
      },
      "source": [
        "Encoded_Categorical_Train = Categorical_Train.apply(lambda x: le.fit_transform(x))\n",
        "Encoded_Categorical_Test = Categorical_Test.apply(lambda x: le.fit_transform(x))"
      ],
      "execution_count": 0,
      "outputs": []
    },
    {
      "cell_type": "markdown",
      "metadata": {
        "id": "tU1RcpF6Ipjd",
        "colab_type": "text"
      },
      "source": [
        "Rejoining numeric and categorical features."
      ]
    },
    {
      "cell_type": "code",
      "metadata": {
        "id": "UDn1oTO8Ipje",
        "colab_type": "code",
        "colab": {}
      },
      "source": [
        "Train_Encoded = pd.concat([Encoded_Categorical_Train, Numeric_Train], axis=1)\n",
        "Test_Encoded = pd.concat([Encoded_Categorical_Test, Numeric_Test], axis=1)"
      ],
      "execution_count": 0,
      "outputs": []
    },
    {
      "cell_type": "code",
      "metadata": {
        "id": "kOkq3JcfIpjh",
        "colab_type": "code",
        "outputId": "07172c1a-7ebd-43f2-8796-1076c3d0a4e8",
        "colab": {
          "base_uri": "https://localhost:8080/",
          "height": 34
        }
      },
      "source": [
        "Train_Encoded.shape"
      ],
      "execution_count": 85,
      "outputs": [
        {
          "output_type": "execute_result",
          "data": {
            "text/plain": [
              "(21201, 25)"
            ]
          },
          "metadata": {
            "tags": []
          },
          "execution_count": 85
        }
      ]
    },
    {
      "cell_type": "code",
      "metadata": {
        "id": "jqRmm92HIpjl",
        "colab_type": "code",
        "outputId": "6b856fcd-7315-4044-83c2-68a8e04bd047",
        "colab": {
          "base_uri": "https://localhost:8080/",
          "height": 34
        }
      },
      "source": [
        "Test_Encoded.shape"
      ],
      "execution_count": 86,
      "outputs": [
        {
          "output_type": "execute_result",
          "data": {
            "text/plain": [
              "(7068, 24)"
            ]
          },
          "metadata": {
            "tags": []
          },
          "execution_count": 86
        }
      ]
    },
    {
      "cell_type": "markdown",
      "metadata": {
        "id": "asc-y2VtIpjv",
        "colab_type": "text"
      },
      "source": [
        "### Model Training and Assessing"
      ]
    },
    {
      "cell_type": "markdown",
      "metadata": {
        "id": "hsNpx-E9Ipjw",
        "colab_type": "text"
      },
      "source": [
        "##### Splitting Train dataset"
      ]
    },
    {
      "cell_type": "markdown",
      "metadata": {
        "id": "fOoe3slMIpjx",
        "colab_type": "text"
      },
      "source": [
        "The splitting of the train dataset is to cross validate the models and assess model accuracy."
      ]
    },
    {
      "cell_type": "code",
      "metadata": {
        "id": "bdKBBHLiIpjx",
        "colab_type": "code",
        "colab": {}
      },
      "source": [
        "# Predictor Variavbles\n",
        "X = Train_Encoded.drop('Time from Pickup to Arrival', axis = 1)\n",
        "\n",
        "# Response Variables\n",
        "y = Train_Encoded['Time from Pickup to Arrival']"
      ],
      "execution_count": 0,
      "outputs": []
    },
    {
      "cell_type": "code",
      "metadata": {
        "id": "ZeqdbvkwIpj2",
        "colab_type": "code",
        "outputId": "e4d84fdc-13b2-413e-97a6-d952ce7c9100",
        "colab": {
          "base_uri": "https://localhost:8080/",
          "height": 238
        }
      },
      "source": [
        "print('Predictor Variables :\\n\\n',X.values,'\\n')\n",
        "print('Response Variable :\\n\\n',y.values)"
      ],
      "execution_count": 88,
      "outputs": [
        {
          "output_type": "stream",
          "text": [
            "Predictor Variables :\n",
            "\n",
            " [[0.0000e+00 1.4964e+04 1.5164e+04 ... 1.3090e+03 1.3800e+01 5.4900e+02]\n",
            " [1.0000e+00 2.3790e+03 2.5900e+03 ... 3.3900e+02 1.3600e+01 6.9000e+01]\n",
            " [0.0000e+00 4.9920e+03 5.1050e+03 ... 2.4200e+02 1.2500e+01 1.1400e+02]\n",
            " ...\n",
            " [0.0000e+00 1.2336e+04 1.2488e+04 ... 4.7300e+02 1.3800e+01 2.9000e+01]\n",
            " [1.0000e+00 1.4845e+04 1.4938e+04 ... 1.8210e+03 1.4000e+01 1.1010e+03]\n",
            " [0.0000e+00 7.9600e+03 7.9840e+03 ... 2.8600e+02 1.3600e+01 7.0000e+01]] \n",
            "\n",
            "Response Variable :\n",
            "\n",
            " [ 745 1993  455 ... 2953 1380 2128]\n"
          ],
          "name": "stdout"
        }
      ]
    },
    {
      "cell_type": "markdown",
      "metadata": {
        "id": "3nHw0zjUIpj7",
        "colab_type": "text"
      },
      "source": [
        "Splitting Train dataset into a subset Train data and a subset of validation data."
      ]
    },
    {
      "cell_type": "code",
      "metadata": {
        "id": "gc7WP5EEIpj7",
        "colab_type": "code",
        "colab": {}
      },
      "source": [
        "X_train, X_test, y_train, y_test = train_test_split(X, y, test_size = 0.2,\n",
        "                                                    random_state = 42)"
      ],
      "execution_count": 0,
      "outputs": []
    },
    {
      "cell_type": "markdown",
      "metadata": {
        "id": "sIlfTGFXIpj_",
        "colab_type": "text"
      },
      "source": [
        "##### Linear Regression model"
      ]
    },
    {
      "cell_type": "code",
      "metadata": {
        "id": "toxLtHLTIpj_",
        "colab_type": "code",
        "outputId": "0048e485-e2e1-42ef-f89f-325153b62a5a",
        "colab": {
          "base_uri": "https://localhost:8080/",
          "height": 51
        }
      },
      "source": [
        "# Instantiating Linear Model\n",
        "linear_regress = LinearRegression()\n",
        "\n",
        "# Training the Linear Model\n",
        "linear_regress.fit(X_train, y_train)\n",
        "\n",
        "# Predicting the train testing subset\n",
        "y_pred_train_lr = linear_regress.predict(X_test)\n",
        "\n",
        "# Assessing Linear Model accuracy using Root Mean Square Error and R-squared\n",
        "print('RMSE       :',np.sqrt(mean_squared_error(y_test,y_pred_train_lr)))\n",
        "print(\"R-squared  :\", r2_score(y_test, y_pred_train_lr))"
      ],
      "execution_count": 91,
      "outputs": [
        {
          "output_type": "stream",
          "text": [
            "RMSE       : 798.7131451404825\n",
            "R-squared  : 0.343214086685691\n"
          ],
          "name": "stdout"
        }
      ]
    },
    {
      "cell_type": "markdown",
      "metadata": {
        "id": "P93d_b2WIpkD",
        "colab_type": "text"
      },
      "source": [
        "##### LASSO Regression Model"
      ]
    },
    {
      "cell_type": "code",
      "metadata": {
        "id": "Y04k3VoWIpkE",
        "colab_type": "code",
        "outputId": "67b5c8d8-b502-4579-9450-8626f0b54795",
        "colab": {
          "base_uri": "https://localhost:8080/",
          "height": 105
        }
      },
      "source": [
        "# Instantiating LASSO Model\n",
        "lasso = Lasso(alpha=0.01)\n",
        "\n",
        "# Training the LASSO Model\n",
        "lasso.fit(X_train,y_train)\n",
        "\n",
        "# Predicting the train testing subset\n",
        "y_pred_train_lasso = lasso.predict(X_test)\n",
        "\n",
        "# Assessing Ridge Model accuracy using Root Mean Square Error and R-squared\n",
        "print('RMSE      :',np.sqrt(mean_squared_error(y_test,y_pred_train_lasso)))\n",
        "print(\"R-sqaured :\", r2_score(y_test, y_pred_train_lasso))"
      ],
      "execution_count": 92,
      "outputs": [
        {
          "output_type": "stream",
          "text": [
            "RMSE      : 798.7964807973203\n",
            "R-sqaured : 0.34307702486016267\n"
          ],
          "name": "stdout"
        },
        {
          "output_type": "stream",
          "text": [
            "/usr/local/lib/python3.6/dist-packages/sklearn/linear_model/_coordinate_descent.py:476: ConvergenceWarning: Objective did not converge. You might want to increase the number of iterations. Duality gap: 3687347949.1715403, tolerance: 1654412.1271723527\n",
            "  positive)\n"
          ],
          "name": "stderr"
        }
      ]
    },
    {
      "cell_type": "markdown",
      "metadata": {
        "id": "Nd8eNPqGIpkH",
        "colab_type": "text"
      },
      "source": [
        "##### Ridge Regression Model"
      ]
    },
    {
      "cell_type": "code",
      "metadata": {
        "id": "QGdVU35jIpkM",
        "colab_type": "code",
        "outputId": "535a4a38-ac4d-496c-cecf-85a8dee938c9",
        "colab": {
          "base_uri": "https://localhost:8080/",
          "height": 51
        }
      },
      "source": [
        "# Instantiating Ridge Model\n",
        "rr = Ridge(alpha=0.01)\n",
        "\n",
        "# Training the Ridge Model\n",
        "rr.fit(X_train, y_train)\n",
        "\n",
        "# Predicting the train tesing subset\n",
        "y_pred_train_rr = rr.predict(X_test)\n",
        "\n",
        "# Assessing Ridge Model accuracy using Root Mean Square Error and R-squared\n",
        "print('RMSE       :',np.sqrt(mean_squared_error(y_test,y_pred_train_rr)))\n",
        "print(\"R-squared  :\", r2_score(y_test, y_pred_train_rr))"
      ],
      "execution_count": 93,
      "outputs": [
        {
          "output_type": "stream",
          "text": [
            "RMSE       : 798.7134248358919\n",
            "R-squared  : 0.3432136266956728\n"
          ],
          "name": "stdout"
        }
      ]
    },
    {
      "cell_type": "markdown",
      "metadata": {
        "id": "57DghNpVIpkS",
        "colab_type": "text"
      },
      "source": [
        "##### Decission Tree Regression Model"
      ]
    },
    {
      "cell_type": "code",
      "metadata": {
        "id": "5_NFbgvyIpkT",
        "colab_type": "code",
        "outputId": "a2bb4ba1-8a1c-42a0-8106-82cbda64539c",
        "colab": {
          "base_uri": "https://localhost:8080/",
          "height": 51
        }
      },
      "source": [
        "# Instantiating Decision Tree Model\n",
        "dtree = DecisionTreeRegressor(max_depth=4,random_state=0)\n",
        "\n",
        "# Training the Decision Tree Model\n",
        "dtree.fit(X_train, y_train)\n",
        "\n",
        "# Predicting the train tesing subset\n",
        "y_pred_train_dt = dtree.predict(X_test)\n",
        "\n",
        "# Assessing Ridge Model accuracy using Root Mean Square Error and R-squared\n",
        "print('RMSE        :',np.sqrt(mean_squared_error(y_test,y_pred_train_dt)))\n",
        "print(\"R-sqauered  :\", r2_score(y_test, y_pred_train_dt))"
      ],
      "execution_count": 94,
      "outputs": [
        {
          "output_type": "stream",
          "text": [
            "RMSE        : 801.9283627379011\n",
            "R-sqauered  : 0.33791566389201966\n"
          ],
          "name": "stdout"
        }
      ]
    },
    {
      "cell_type": "markdown",
      "metadata": {
        "id": "7GHyU7j3IpkY",
        "colab_type": "text"
      },
      "source": [
        "##### Random Forest Regression Model"
      ]
    },
    {
      "cell_type": "code",
      "metadata": {
        "id": "BCxOQ4gkIpkZ",
        "colab_type": "code",
        "outputId": "5989ae69-ffa4-41c0-c733-121f82c9391d",
        "colab": {
          "base_uri": "https://localhost:8080/",
          "height": 51
        }
      },
      "source": [
        "# Instantiating Random Forest Model\n",
        "rfreg = RandomForestRegressor(n_estimators = 200,random_state=0)\n",
        "\n",
        "# Training the Random Forest Model\n",
        "rfreg.fit(X_train,y_train)\n",
        "\n",
        "# Predicting the train tesing subset\n",
        "y_pred_train_rfreg = rfreg.predict(X_test)\n",
        "\n",
        "# Assessing Ridge Model accuracy using Root Mean Square Error and R-squared\n",
        "print('RMSE        :',np.sqrt(mean_squared_error(y_test,y_pred_train_rfreg)))\n",
        "print(\"R-sqauered  :\", r2_score(y_test, y_pred_train_rfreg))"
      ],
      "execution_count": 96,
      "outputs": [
        {
          "output_type": "stream",
          "text": [
            "RMSE        : 773.7561856246192\n",
            "R-sqauered  : 0.38361731090739937\n"
          ],
          "name": "stdout"
        }
      ]
    },
    {
      "cell_type": "markdown",
      "metadata": {
        "id": "WAHnbj4Or0Rf",
        "colab_type": "text"
      },
      "source": [
        "##### Support Vector Regression Model"
      ]
    },
    {
      "cell_type": "code",
      "metadata": {
        "id": "y2phPCJ7rVCx",
        "colab_type": "code",
        "colab": {
          "base_uri": "https://localhost:8080/",
          "height": 51
        },
        "outputId": "c7744c76-d934-4383-9b73-6994215b6ab8"
      },
      "source": [
        "# Instantiating SVR Model\n",
        "svr_reg = SVR(kernel ='rbf',gamma='scale')\n",
        "\n",
        "# Training the SVR Model\n",
        "svr_reg.fit(X_train, y_train)\n",
        "\n",
        "# Predicting the train tesing subset\n",
        "y_pred_train_svr_reg = svr_reg.predict(X_test)\n",
        "\n",
        "# Assessing Ridge Model accuracy using Root Mean Square Error and R-squared\n",
        "print('RMSE        :',np.sqrt(mean_squared_error(y_test,y_pred_train_svr_reg)))\n",
        "print(\"R-sqauered  :\", r2_score(y_test, y_pred_train_svr_reg))"
      ],
      "execution_count": 97,
      "outputs": [
        {
          "output_type": "stream",
          "text": [
            "RMSE        : 1004.749865283802\n",
            "R-sqauered  : -0.039341045310566036\n"
          ],
          "name": "stdout"
        }
      ]
    },
    {
      "cell_type": "markdown",
      "metadata": {
        "id": "sluaxxOcIpkf",
        "colab_type": "text"
      },
      "source": [
        "###### Conclusion"
      ]
    },
    {
      "cell_type": "markdown",
      "metadata": {
        "id": "zmME_4_tIpkh",
        "colab_type": "text"
      },
      "source": [
        "From the models evaluated our Random Forest Regression Model has the lowest RMSE and coefficient of deternimation. Therefore this is the model to best predict the arrival for orders from pick-up to drop-off.\n",
        "\n",
        "We would like to make sure we get the best out of this model. One way to do so is to tune hyperparameters of the model by using grid/random search."
      ]
    },
    {
      "cell_type": "markdown",
      "metadata": {
        "id": "W9yYY9SzIpkh",
        "colab_type": "text"
      },
      "source": [
        "### Hyperparameter tunning"
      ]
    },
    {
      "cell_type": "markdown",
      "metadata": {
        "id": "KuIW-Xf5Ipki",
        "colab_type": "text"
      },
      "source": [
        "To tune our model:\n",
        "- We first make select parameters to tune.\n",
        "- Then instantiate Random search.\n",
        "- We then fit the training dataset to Random Search\n",
        "- We retrieve the best parameters determined by Random Search\n",
        "- Lastly we retrain our model using the best parameters"
      ]
    },
    {
      "cell_type": "code",
      "metadata": {
        "id": "Z699jTNcIpki",
        "colab_type": "code",
        "colab": {}
      },
      "source": [
        "#Parameter Selection\n",
        "\n",
        "n_estimators = [int(x) for x in np.linspace(start=200, stop=2000, num=10)]\n",
        "max_features = ['auto', 'sqrt']\n",
        "max_depth = [int(x) for x in np.linspace(10, 110, num=11)]\n",
        "max_depth.append(None)\n",
        "min_samples_split = [2, 5, 10]\n",
        "min_samples_leaf = [1, 2, 4]\n",
        "bootstrap = [True, False]\n",
        "random_state = list(range(0,43))\n",
        "\n",
        "random_grid = {'n_estimators': n_estimators,\n",
        "               'max_features': max_features,\n",
        "               'max_depth': max_depth,\n",
        "               'min_samples_split': min_samples_split,\n",
        "               'min_samples_leaf': min_samples_leaf,\n",
        "               'bootstrap': bootstrap,\n",
        "               'random_state':random_state}"
      ],
      "execution_count": 0,
      "outputs": []
    },
    {
      "cell_type": "code",
      "metadata": {
        "id": "zYEBF2CAIpkm",
        "colab_type": "code",
        "colab": {}
      },
      "source": [
        "# Instantiate Random Search\n",
        "RF_Random = RandomizedSearchCV(estimator=rfreg, \n",
        "                               param_distributions=random_grid,\n",
        "                               n_iter=5, cv=5, verbose=2, random_state=42)"
      ],
      "execution_count": 0,
      "outputs": []
    },
    {
      "cell_type": "code",
      "metadata": {
        "id": "z9KYarAEIpko",
        "colab_type": "code",
        "outputId": "6eea0e68-a739-4bc8-b431-1781672fadf4",
        "colab": {
          "base_uri": "https://localhost:8080/",
          "height": 1000
        }
      },
      "source": [
        "# Fit to Train data\n",
        "RF_Random.fit(X_train,y_train.ravel())"
      ],
      "execution_count": 0,
      "outputs": [
        {
          "output_type": "stream",
          "text": [
            "Fitting 5 folds for each of 5 candidates, totalling 25 fits\n",
            "[CV] random_state=10, n_estimators=1400, min_samples_split=5, min_samples_leaf=2, max_features=sqrt, max_depth=40, bootstrap=False \n"
          ],
          "name": "stdout"
        },
        {
          "output_type": "stream",
          "text": [
            "[Parallel(n_jobs=1)]: Using backend SequentialBackend with 1 concurrent workers.\n"
          ],
          "name": "stderr"
        },
        {
          "output_type": "stream",
          "text": [
            "[CV]  random_state=10, n_estimators=1400, min_samples_split=5, min_samples_leaf=2, max_features=sqrt, max_depth=40, bootstrap=False, total= 1.5min\n",
            "[CV] random_state=10, n_estimators=1400, min_samples_split=5, min_samples_leaf=2, max_features=sqrt, max_depth=40, bootstrap=False \n"
          ],
          "name": "stdout"
        },
        {
          "output_type": "stream",
          "text": [
            "[Parallel(n_jobs=1)]: Done   1 out of   1 | elapsed:  1.5min remaining:    0.0s\n"
          ],
          "name": "stderr"
        },
        {
          "output_type": "stream",
          "text": [
            "[CV]  random_state=10, n_estimators=1400, min_samples_split=5, min_samples_leaf=2, max_features=sqrt, max_depth=40, bootstrap=False, total= 1.5min\n",
            "[CV] random_state=10, n_estimators=1400, min_samples_split=5, min_samples_leaf=2, max_features=sqrt, max_depth=40, bootstrap=False \n",
            "[CV]  random_state=10, n_estimators=1400, min_samples_split=5, min_samples_leaf=2, max_features=sqrt, max_depth=40, bootstrap=False, total= 1.5min\n",
            "[CV] random_state=10, n_estimators=1400, min_samples_split=5, min_samples_leaf=2, max_features=sqrt, max_depth=40, bootstrap=False \n",
            "[CV]  random_state=10, n_estimators=1400, min_samples_split=5, min_samples_leaf=2, max_features=sqrt, max_depth=40, bootstrap=False, total= 1.5min\n",
            "[CV] random_state=10, n_estimators=1400, min_samples_split=5, min_samples_leaf=2, max_features=sqrt, max_depth=40, bootstrap=False \n",
            "[CV]  random_state=10, n_estimators=1400, min_samples_split=5, min_samples_leaf=2, max_features=sqrt, max_depth=40, bootstrap=False, total= 1.5min\n",
            "[CV] random_state=22, n_estimators=1200, min_samples_split=10, min_samples_leaf=4, max_features=sqrt, max_depth=70, bootstrap=False \n",
            "[CV]  random_state=22, n_estimators=1200, min_samples_split=10, min_samples_leaf=4, max_features=sqrt, max_depth=70, bootstrap=False, total= 1.1min\n",
            "[CV] random_state=22, n_estimators=1200, min_samples_split=10, min_samples_leaf=4, max_features=sqrt, max_depth=70, bootstrap=False \n",
            "[CV]  random_state=22, n_estimators=1200, min_samples_split=10, min_samples_leaf=4, max_features=sqrt, max_depth=70, bootstrap=False, total= 1.1min\n",
            "[CV] random_state=22, n_estimators=1200, min_samples_split=10, min_samples_leaf=4, max_features=sqrt, max_depth=70, bootstrap=False \n",
            "[CV]  random_state=22, n_estimators=1200, min_samples_split=10, min_samples_leaf=4, max_features=sqrt, max_depth=70, bootstrap=False, total= 1.1min\n",
            "[CV] random_state=22, n_estimators=1200, min_samples_split=10, min_samples_leaf=4, max_features=sqrt, max_depth=70, bootstrap=False \n",
            "[CV]  random_state=22, n_estimators=1200, min_samples_split=10, min_samples_leaf=4, max_features=sqrt, max_depth=70, bootstrap=False, total= 1.1min\n",
            "[CV] random_state=22, n_estimators=1200, min_samples_split=10, min_samples_leaf=4, max_features=sqrt, max_depth=70, bootstrap=False \n",
            "[CV]  random_state=22, n_estimators=1200, min_samples_split=10, min_samples_leaf=4, max_features=sqrt, max_depth=70, bootstrap=False, total= 1.1min\n",
            "[CV] random_state=8, n_estimators=1800, min_samples_split=2, min_samples_leaf=1, max_features=auto, max_depth=60, bootstrap=False \n",
            "[CV]  random_state=8, n_estimators=1800, min_samples_split=2, min_samples_leaf=1, max_features=auto, max_depth=60, bootstrap=False, total=10.9min\n",
            "[CV] random_state=8, n_estimators=1800, min_samples_split=2, min_samples_leaf=1, max_features=auto, max_depth=60, bootstrap=False \n",
            "[CV]  random_state=8, n_estimators=1800, min_samples_split=2, min_samples_leaf=1, max_features=auto, max_depth=60, bootstrap=False, total=11.1min\n",
            "[CV] random_state=8, n_estimators=1800, min_samples_split=2, min_samples_leaf=1, max_features=auto, max_depth=60, bootstrap=False \n",
            "[CV]  random_state=8, n_estimators=1800, min_samples_split=2, min_samples_leaf=1, max_features=auto, max_depth=60, bootstrap=False, total=10.7min\n",
            "[CV] random_state=8, n_estimators=1800, min_samples_split=2, min_samples_leaf=1, max_features=auto, max_depth=60, bootstrap=False \n",
            "[CV]  random_state=8, n_estimators=1800, min_samples_split=2, min_samples_leaf=1, max_features=auto, max_depth=60, bootstrap=False, total=10.8min\n",
            "[CV] random_state=8, n_estimators=1800, min_samples_split=2, min_samples_leaf=1, max_features=auto, max_depth=60, bootstrap=False \n",
            "[CV]  random_state=8, n_estimators=1800, min_samples_split=2, min_samples_leaf=1, max_features=auto, max_depth=60, bootstrap=False, total=11.0min\n",
            "[CV] random_state=21, n_estimators=400, min_samples_split=5, min_samples_leaf=4, max_features=auto, max_depth=20, bootstrap=False \n",
            "[CV]  random_state=21, n_estimators=400, min_samples_split=5, min_samples_leaf=4, max_features=auto, max_depth=20, bootstrap=False, total= 1.8min\n",
            "[CV] random_state=21, n_estimators=400, min_samples_split=5, min_samples_leaf=4, max_features=auto, max_depth=20, bootstrap=False \n",
            "[CV]  random_state=21, n_estimators=400, min_samples_split=5, min_samples_leaf=4, max_features=auto, max_depth=20, bootstrap=False, total= 1.8min\n",
            "[CV] random_state=21, n_estimators=400, min_samples_split=5, min_samples_leaf=4, max_features=auto, max_depth=20, bootstrap=False \n",
            "[CV]  random_state=21, n_estimators=400, min_samples_split=5, min_samples_leaf=4, max_features=auto, max_depth=20, bootstrap=False, total= 1.8min\n",
            "[CV] random_state=21, n_estimators=400, min_samples_split=5, min_samples_leaf=4, max_features=auto, max_depth=20, bootstrap=False \n",
            "[CV]  random_state=21, n_estimators=400, min_samples_split=5, min_samples_leaf=4, max_features=auto, max_depth=20, bootstrap=False, total= 1.8min\n",
            "[CV] random_state=21, n_estimators=400, min_samples_split=5, min_samples_leaf=4, max_features=auto, max_depth=20, bootstrap=False \n",
            "[CV]  random_state=21, n_estimators=400, min_samples_split=5, min_samples_leaf=4, max_features=auto, max_depth=20, bootstrap=False, total= 1.8min\n",
            "[CV] random_state=38, n_estimators=1600, min_samples_split=10, min_samples_leaf=4, max_features=auto, max_depth=40, bootstrap=False \n",
            "[CV]  random_state=38, n_estimators=1600, min_samples_split=10, min_samples_leaf=4, max_features=auto, max_depth=40, bootstrap=False, total= 7.2min\n",
            "[CV] random_state=38, n_estimators=1600, min_samples_split=10, min_samples_leaf=4, max_features=auto, max_depth=40, bootstrap=False \n",
            "[CV]  random_state=38, n_estimators=1600, min_samples_split=10, min_samples_leaf=4, max_features=auto, max_depth=40, bootstrap=False, total= 7.4min\n",
            "[CV] random_state=38, n_estimators=1600, min_samples_split=10, min_samples_leaf=4, max_features=auto, max_depth=40, bootstrap=False \n",
            "[CV]  random_state=38, n_estimators=1600, min_samples_split=10, min_samples_leaf=4, max_features=auto, max_depth=40, bootstrap=False, total= 7.0min\n",
            "[CV] random_state=38, n_estimators=1600, min_samples_split=10, min_samples_leaf=4, max_features=auto, max_depth=40, bootstrap=False \n",
            "[CV]  random_state=38, n_estimators=1600, min_samples_split=10, min_samples_leaf=4, max_features=auto, max_depth=40, bootstrap=False, total= 7.3min\n",
            "[CV] random_state=38, n_estimators=1600, min_samples_split=10, min_samples_leaf=4, max_features=auto, max_depth=40, bootstrap=False \n",
            "[CV]  random_state=38, n_estimators=1600, min_samples_split=10, min_samples_leaf=4, max_features=auto, max_depth=40, bootstrap=False, total= 7.2min\n"
          ],
          "name": "stdout"
        },
        {
          "output_type": "stream",
          "text": [
            "[Parallel(n_jobs=1)]: Done  25 out of  25 | elapsed: 113.1min finished\n"
          ],
          "name": "stderr"
        },
        {
          "output_type": "execute_result",
          "data": {
            "text/plain": [
              "RandomizedSearchCV(cv=5, error_score=nan,\n",
              "                   estimator=RandomForestRegressor(bootstrap=True,\n",
              "                                                   ccp_alpha=0.0,\n",
              "                                                   criterion='mse',\n",
              "                                                   max_depth=None,\n",
              "                                                   max_features='auto',\n",
              "                                                   max_leaf_nodes=None,\n",
              "                                                   max_samples=None,\n",
              "                                                   min_impurity_decrease=0.0,\n",
              "                                                   min_impurity_split=None,\n",
              "                                                   min_samples_leaf=1,\n",
              "                                                   min_samples_split=2,\n",
              "                                                   min_weight_fraction_leaf=0.0,\n",
              "                                                   n_estimators=200,\n",
              "                                                   n_jobs=None, oob_score=Fals...\n",
              "                                        'max_features': ['auto', 'sqrt'],\n",
              "                                        'min_samples_leaf': [1, 2, 4],\n",
              "                                        'min_samples_split': [2, 5, 10],\n",
              "                                        'n_estimators': [200, 400, 600, 800,\n",
              "                                                         1000, 1200, 1400, 1600,\n",
              "                                                         1800, 2000],\n",
              "                                        'random_state': [0, 1, 2, 3, 4, 5, 6, 7,\n",
              "                                                         8, 9, 10, 11, 12, 13,\n",
              "                                                         14, 15, 16, 17, 18, 19,\n",
              "                                                         20, 21, 22, 23, 24, 25,\n",
              "                                                         26, 27, 28, 29, ...]},\n",
              "                   pre_dispatch='2*n_jobs', random_state=42, refit=True,\n",
              "                   return_train_score=False, scoring=None, verbose=2)"
            ]
          },
          "metadata": {
            "tags": []
          },
          "execution_count": 149
        }
      ]
    },
    {
      "cell_type": "code",
      "metadata": {
        "id": "RToynd6kIpku",
        "colab_type": "code",
        "outputId": "8b59e824-b550-4fa2-b579-150da49a6eb9",
        "colab": {
          "base_uri": "https://localhost:8080/",
          "height": 136
        }
      },
      "source": [
        "# Retrieve best parameters for the our model\n",
        "RF_Random.best_params_"
      ],
      "execution_count": 0,
      "outputs": [
        {
          "output_type": "execute_result",
          "data": {
            "text/plain": [
              "{'bootstrap': False,\n",
              " 'max_depth': 40,\n",
              " 'max_features': 'sqrt',\n",
              " 'min_samples_leaf': 2,\n",
              " 'min_samples_split': 5,\n",
              " 'n_estimators': 1400,\n",
              " 'random_state': 10}"
            ]
          },
          "metadata": {
            "tags": []
          },
          "execution_count": 150
        }
      ]
    },
    {
      "cell_type": "code",
      "metadata": {
        "id": "FzxqN2ApIpkx",
        "colab_type": "code",
        "outputId": "a45436cd-cf90-4218-deab-f130c44c60ed",
        "colab": {
          "base_uri": "https://localhost:8080/",
          "height": 51
        }
      },
      "source": [
        "# Retraining of Random Forest model\n",
        "rfreg = RandomForestRegressor(random_state=10,n_estimators=1400,\n",
        "                              min_samples_split=5,min_samples_leaf=2,\n",
        "                              max_features='sqrt',max_depth=40,\n",
        "                              bootstrap=False)\n",
        "\n",
        "rfreg.fit(X_train, y_train)\n",
        "\n",
        "# Predicting the train tesing subset\n",
        "y_pred_train_rfreg = rfreg.predict(X_test)\n",
        "\n",
        "# Assessing Ridge Model accuracy using Root Mean Square Error and R-squared\n",
        "print('RMSE        :',np.sqrt(mean_squared_error(y_test,y_pred_train_rfreg)))\n",
        "print(\"R-sqauered  :\", r2_score(y_test, y_pred_train_rfreg))"
      ],
      "execution_count": 98,
      "outputs": [
        {
          "output_type": "stream",
          "text": [
            "RMSE        : 764.8386771761683\n",
            "R-sqauered  : 0.3977430107238593\n"
          ],
          "name": "stdout"
        }
      ]
    },
    {
      "cell_type": "markdown",
      "metadata": {
        "id": "OqgytW8sIpk1",
        "colab_type": "text"
      },
      "source": [
        "### Predictions"
      ]
    },
    {
      "cell_type": "markdown",
      "metadata": {
        "id": "pGU0Ld74Ipk2",
        "colab_type": "text"
      },
      "source": [
        "Predictions made from the Test dataset  "
      ]
    },
    {
      "cell_type": "code",
      "metadata": {
        "id": "jTAMFvzJIpk2",
        "colab_type": "code",
        "colab": {}
      },
      "source": [
        "rfreg_up = RandomForestRegressor(random_state=10,n_estimators=1400,\n",
        "                              min_samples_split=5,min_samples_leaf=2,\n",
        "                              max_features='sqrt',max_depth=40,\n",
        "                              bootstrap=False)\n",
        "\n",
        "rfreg_up.fit(X_train, y_train)\n",
        "y_pred_train_rfreg = rfreg_up.predict(Test_Encoded)"
      ],
      "execution_count": 0,
      "outputs": []
    },
    {
      "cell_type": "code",
      "metadata": {
        "id": "Xa772AuFIpk7",
        "colab_type": "code",
        "colab": {}
      },
      "source": [
        "submission = pd.DataFrame({'Order No': Test_Encoded.index, \n",
        "                           'Time from Pickup to Arrival': y_pred_train_rfreg})"
      ],
      "execution_count": 0,
      "outputs": []
    },
    {
      "cell_type": "code",
      "metadata": {
        "id": "ZukaxAloIplB",
        "colab_type": "code",
        "outputId": "26c92a45-5634-42af-cfe2-1a408a3889e5",
        "colab": {
          "base_uri": "https://localhost:8080/",
          "height": 204
        }
      },
      "source": [
        "submission.head()"
      ],
      "execution_count": 101,
      "outputs": [
        {
          "output_type": "execute_result",
          "data": {
            "text/html": [
              "<div>\n",
              "<style scoped>\n",
              "    .dataframe tbody tr th:only-of-type {\n",
              "        vertical-align: middle;\n",
              "    }\n",
              "\n",
              "    .dataframe tbody tr th {\n",
              "        vertical-align: top;\n",
              "    }\n",
              "\n",
              "    .dataframe thead th {\n",
              "        text-align: right;\n",
              "    }\n",
              "</style>\n",
              "<table border=\"1\" class=\"dataframe\">\n",
              "  <thead>\n",
              "    <tr style=\"text-align: right;\">\n",
              "      <th></th>\n",
              "      <th>Order No</th>\n",
              "      <th>Time from Pickup to Arrival</th>\n",
              "    </tr>\n",
              "  </thead>\n",
              "  <tbody>\n",
              "    <tr>\n",
              "      <th>0</th>\n",
              "      <td>Order_No_19248</td>\n",
              "      <td>1601.726369</td>\n",
              "    </tr>\n",
              "    <tr>\n",
              "      <th>1</th>\n",
              "      <td>Order_No_12736</td>\n",
              "      <td>1254.793750</td>\n",
              "    </tr>\n",
              "    <tr>\n",
              "      <th>2</th>\n",
              "      <td>Order_No_768</td>\n",
              "      <td>1389.652619</td>\n",
              "    </tr>\n",
              "    <tr>\n",
              "      <th>3</th>\n",
              "      <td>Order_No_15332</td>\n",
              "      <td>1159.474667</td>\n",
              "    </tr>\n",
              "    <tr>\n",
              "      <th>4</th>\n",
              "      <td>Order_No_21373</td>\n",
              "      <td>1020.350869</td>\n",
              "    </tr>\n",
              "  </tbody>\n",
              "</table>\n",
              "</div>"
            ],
            "text/plain": [
              "         Order No  Time from Pickup to Arrival\n",
              "0  Order_No_19248                  1601.726369\n",
              "1  Order_No_12736                  1254.793750\n",
              "2    Order_No_768                  1389.652619\n",
              "3  Order_No_15332                  1159.474667\n",
              "4  Order_No_21373                  1020.350869"
            ]
          },
          "metadata": {
            "tags": []
          },
          "execution_count": 101
        }
      ]
    },
    {
      "cell_type": "markdown",
      "metadata": {
        "id": "mKv-dEu8IplE",
        "colab_type": "text"
      },
      "source": [
        "Saving the predictions as a CSV to be sumbitted to Zindi."
      ]
    },
    {
      "cell_type": "code",
      "metadata": {
        "id": "Ui8GrWaBIplH",
        "colab_type": "code",
        "colab": {}
      },
      "source": [
        "submission = pd.DataFrame({'Order No': Test_Encoded.index, \n",
        "                           'Time from Pickup to Arrival': y_pred_train_rfreg})\n",
        "submission.to_csv('Randfo_reg_test_upg(1).csv',index = False)"
      ],
      "execution_count": 0,
      "outputs": []
    },
    {
      "cell_type": "markdown",
      "metadata": {
        "id": "56nlUb9-IplK",
        "colab_type": "text"
      },
      "source": [
        "### Saving the Model"
      ]
    },
    {
      "cell_type": "code",
      "metadata": {
        "id": "e88DJQc0IplL",
        "colab_type": "code",
        "colab": {}
      },
      "source": [
        "import pickle\n",
        "\n",
        "model_save_path = \"Randfo_reg_test_upg.pkl\"\n",
        "with open(model_save_path,'wb') as file:\n",
        "    pickle.dump(rfreg_up,file)"
      ],
      "execution_count": 0,
      "outputs": []
    },
    {
      "cell_type": "code",
      "metadata": {
        "id": "icDKH8WJ1e0j",
        "colab_type": "code",
        "colab": {}
      },
      "source": [
        ""
      ],
      "execution_count": 0,
      "outputs": []
    }
  ]
}